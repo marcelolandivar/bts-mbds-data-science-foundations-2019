{
  "nbformat": 4,
  "nbformat_minor": 0,
  "metadata": {
    "colab": {
      "name": "DSF_WEEK_1_EXERCISES.ipynb",
      "provenance": [],
      "collapsed_sections": []
    },
    "kernelspec": {
      "name": "python3",
      "display_name": "Python 3"
    }
  },
  "cells": [
    {
      "cell_type": "markdown",
      "metadata": {
        "id": "_a2hajcA99-K",
        "colab_type": "text"
      },
      "source": [
        "![BTS](https://github.com/vfp1/bts-mbds-data-science-foundations-2019/blob/master/sessions/img/Logo-BTS.jpg?raw=1)\n",
        "\n",
        "# WEEK 1: Assignements\n",
        "\n",
        "### Victor F. Pajuelo Madrigal <victor.pajuelo@bts.tech> - Data Science Foundations (WEEK 1)\n",
        "\n",
        "Open this notebook in Google Colaboratory: [![Open in Colab](https://colab.research.google.com/assets/colab-badge.svg)](https://colab.research.google.com/github/vfp1/bts-mbds-data-science-foundations-2019/blob/master/sessions/DSF_WEEK_1_EXERCISES.ipynb)"
      ]
    },
    {
      "cell_type": "markdown",
      "metadata": {
        "id": "HCvH2cLM_1Cq",
        "colab_type": "text"
      },
      "source": [
        "# Exercise 1: slicing arrays [OPTIONAL]\n",
        "\n",
        "Given the array provided in the next cell. Do the following with slicing (check the other notebooks for examples)\n",
        "\n",
        "\n",
        "\n",
        "*   Print the whole array using slice\n",
        "*   Print number 12\n",
        "*   Reverse the array\n",
        "*   Reverse only one row in the array\n",
        "*   Slice the first three columns in the array\n",
        "*   Slice the last three columns and reverse them\n",
        "*   Slice the last two rows and print them\n",
        "*   Slice the last integers in a row\n",
        "*   Slice rows and columns\n",
        "\n",
        "\n",
        "[Here](https://machinelearningmastery.com/index-slice-reshape-numpy-arrays-machine-learning-python/) some good examples ;-)\n",
        "\n",
        "\n",
        "\n"
      ]
    },
    {
      "cell_type": "code",
      "metadata": {
        "id": "ksQUFmu3-HKl",
        "colab_type": "code",
        "outputId": "47cf399e-63fe-4626-d475-d9f8f4c18462",
        "colab": {
          "base_uri": "https://localhost:8080/",
          "height": 90
        }
      },
      "source": [
        "import numpy as np\n",
        "\n",
        "a = [[1, 2, 3, 4, 5], [6, 7, 8, 9, 10], [11, 12, 13, 14, 15], [16, 17, 18, 19, 20]]\n",
        "nd_a = np.array(a)\n",
        "nd_a"
      ],
      "execution_count": 0,
      "outputs": [
        {
          "output_type": "execute_result",
          "data": {
            "text/plain": [
              "array([[ 1,  2,  3,  4,  5],\n",
              "       [ 6,  7,  8,  9, 10],\n",
              "       [11, 12, 13, 14, 15],\n",
              "       [16, 17, 18, 19, 20]])"
            ]
          },
          "metadata": {
            "tags": []
          },
          "execution_count": 35
        }
      ]
    },
    {
      "cell_type": "markdown",
      "metadata": {
        "id": "XrA3YsGkQVY4",
        "colab_type": "text"
      },
      "source": [
        "# Exercise 2: when is best to bike alone? [OPTIONAL]\n",
        "\n",
        "Given [this](https://github.com/vfp1/bts-mbds-data-science-foundations-2019/raw/master/sessions/data/Fremont_Bridge_Hourly_Bicycle_Counts_by_Month_October_2012_to_present.csv) dataset:\n",
        "\n",
        "* Open the dataset using Pandas\n",
        "* Display the DataFrame\n",
        "* Reply to the following questions (either by plotting the graph and summarizing the values):\n",
        "\n",
        "    * When are the busiest hours per week in Total?\n",
        "    * Where will you be more comfortable (alone) riding during the week in West or East?\n",
        "    * What about riding during the business days? When and where are the best hours to ride alone between 06:00 and 10:00? And between 15:00 and 20:00"
      ]
    },
    {
      "cell_type": "markdown",
      "metadata": {
        "id": "kRIP0xZeYrvn",
        "colab_type": "text"
      },
      "source": [
        "# Exercise 3: let's get rich! [OPTIONAL]\n",
        "\n",
        "Given this apple stock history [this dataset](https://github.com/vfp1/bts-mbds-data-science-foundations-2019/raw/master/sessions/data/appl_1980_2014.csv)\n",
        "\n",
        "* Open the dataset using Pandas\n",
        "* Display the DataFrame\n",
        "* Reply to the following questions (either by plotting the graph and summarizing the values):\n",
        "\n",
        "    * How much money will you have now if you bought 10 stocks for Apple at the end of January 2000 and you sold it at the end of 2013\n",
        "    * When was the peak maximum of volume of trades done?\n",
        "    * When was the month with the lowest close?\n",
        "    * And the lowest close of the day in the whole dataset?"
      ]
    }
  ]
}