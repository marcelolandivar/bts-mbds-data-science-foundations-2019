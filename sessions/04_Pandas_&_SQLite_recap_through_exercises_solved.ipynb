{
  "nbformat": 4,
  "nbformat_minor": 0,
  "metadata": {
    "colab": {
      "name": "04_Pandas_&_SQLite_recap_through_exercises_solved.ipynb",
      "provenance": [],
      "collapsed_sections": []
    },
    "kernelspec": {
      "name": "python3",
      "display_name": "Python 3"
    }
  },
  "cells": [
    {
      "cell_type": "markdown",
      "metadata": {
        "id": "aUacJe1qJSCG",
        "colab_type": "text"
      },
      "source": [
        "![BTS](https://github.com/vfp1/bts-mbds-data-science-foundations-2019/blob/master/sessions/img/Logo-BTS.jpg?raw=1)\n",
        "\n",
        "# Session 4: Pandas and SQLite in depth session\n",
        "\n",
        "### Victor F. Pajuelo Madrigal <victor.pajuelo@bts.tech> - Data Science Foundations (2019-10-10)\n",
        "\n",
        "Open this notebook in Google Colaboratory: [![Open in Colab](https://colab.research.google.com/assets/colab-badge.svg)](https://colab.research.google.com/github/vfp1/bts-mbds-data-science-foundations-2019/blob/master/sessions/04_Pandas_&_SQLite_recap_through_exercises.ipynb)\n"
      ]
    },
    {
      "cell_type": "markdown",
      "metadata": {
        "id": "V6LVl9QIJjmw",
        "colab_type": "text"
      },
      "source": [
        "# OPTIONAL assignements from WEEK one\n",
        "\n",
        "Let's look in depth at the optional assignements from WEEK 1\n",
        "\n",
        "You can find the first week exercise notebook by opening this notebook in Google Colaboratory: \n",
        "[![Open in Colab](https://colab.research.google.com/assets/colab-badge.svg)](https://colab.research.google.com/github/vfp1/bts-mbds-data-science-foundations-2019/blob/master/sessions/DSF_WEEK_1_EXERCISES.ipynb)"
      ]
    },
    {
      "cell_type": "markdown",
      "metadata": {
        "id": "F95_2cieLo1Y",
        "colab_type": "text"
      },
      "source": [
        "# More Pandas!\n",
        "\n",
        "Check a good cheatsheet for Pandas [here](https://www.w3resource.com/python-exercises/pandas/index.php)\n",
        "\n",
        "[Some cool exercise resources for Pandas](https://www.machinelearningplus.com/python/101-pandas-exercises-python/)"
      ]
    },
    {
      "cell_type": "markdown",
      "metadata": {
        "id": "5Wc44wNaSCC3",
        "colab_type": "text"
      },
      "source": [
        "## Groupby exersises\n",
        "\n",
        "Import this [dataset](https://raw.githubusercontent.com/justmarkham/DAT8/master/data/u.user)\n",
        "\n",
        "*   What is the mean age per occupation?\n",
        "*   What is the male ratio per occupation, sort it from the most to the least. Do the same for women\n",
        "*   For each occupation, calculate the minimum and maximum ages\n",
        "* For each combination of occupation and gender, calculate the mean age\n",
        "* For each occupation present the percentage of women and men\n",
        "\n"
      ]
    },
    {
      "cell_type": "code",
      "metadata": {
        "id": "uWa2Itm8mLWZ",
        "colab_type": "code",
        "outputId": "d91ce79c-0e13-4333-af35-76ec5e96ef2e",
        "colab": {
          "base_uri": "https://localhost:8080/",
          "height": 289
        }
      },
      "source": [
        "import pandas as pd\n",
        "\n",
        "url = \"https://raw.githubusercontent.com/justmarkham/DAT8/master/data/u.user\"\n",
        "\n",
        "workers = pd.read_table(url, \n",
        "                      sep='|', index_col='user_id')\n",
        "workers.head()"
      ],
      "execution_count": 2,
      "outputs": [
        {
          "output_type": "stream",
          "text": [
            "/usr/local/lib/python3.6/dist-packages/ipykernel_launcher.py:6: FutureWarning: read_table is deprecated, use read_csv instead.\n",
            "  \n"
          ],
          "name": "stderr"
        },
        {
          "output_type": "execute_result",
          "data": {
            "text/html": [
              "<div>\n",
              "<style scoped>\n",
              "    .dataframe tbody tr th:only-of-type {\n",
              "        vertical-align: middle;\n",
              "    }\n",
              "\n",
              "    .dataframe tbody tr th {\n",
              "        vertical-align: top;\n",
              "    }\n",
              "\n",
              "    .dataframe thead th {\n",
              "        text-align: right;\n",
              "    }\n",
              "</style>\n",
              "<table border=\"1\" class=\"dataframe\">\n",
              "  <thead>\n",
              "    <tr style=\"text-align: right;\">\n",
              "      <th></th>\n",
              "      <th>age</th>\n",
              "      <th>gender</th>\n",
              "      <th>occupation</th>\n",
              "      <th>zip_code</th>\n",
              "    </tr>\n",
              "    <tr>\n",
              "      <th>user_id</th>\n",
              "      <th></th>\n",
              "      <th></th>\n",
              "      <th></th>\n",
              "      <th></th>\n",
              "    </tr>\n",
              "  </thead>\n",
              "  <tbody>\n",
              "    <tr>\n",
              "      <th>1</th>\n",
              "      <td>24</td>\n",
              "      <td>M</td>\n",
              "      <td>technician</td>\n",
              "      <td>85711</td>\n",
              "    </tr>\n",
              "    <tr>\n",
              "      <th>2</th>\n",
              "      <td>53</td>\n",
              "      <td>F</td>\n",
              "      <td>other</td>\n",
              "      <td>94043</td>\n",
              "    </tr>\n",
              "    <tr>\n",
              "      <th>3</th>\n",
              "      <td>23</td>\n",
              "      <td>M</td>\n",
              "      <td>writer</td>\n",
              "      <td>32067</td>\n",
              "    </tr>\n",
              "    <tr>\n",
              "      <th>4</th>\n",
              "      <td>24</td>\n",
              "      <td>M</td>\n",
              "      <td>technician</td>\n",
              "      <td>43537</td>\n",
              "    </tr>\n",
              "    <tr>\n",
              "      <th>5</th>\n",
              "      <td>33</td>\n",
              "      <td>F</td>\n",
              "      <td>other</td>\n",
              "      <td>15213</td>\n",
              "    </tr>\n",
              "  </tbody>\n",
              "</table>\n",
              "</div>"
            ],
            "text/plain": [
              "         age gender  occupation zip_code\n",
              "user_id                                 \n",
              "1         24      M  technician    85711\n",
              "2         53      F       other    94043\n",
              "3         23      M      writer    32067\n",
              "4         24      M  technician    43537\n",
              "5         33      F       other    15213"
            ]
          },
          "metadata": {
            "tags": []
          },
          "execution_count": 2
        }
      ]
    },
    {
      "cell_type": "markdown",
      "metadata": {
        "id": "3O7p_u5Qmyto",
        "colab_type": "text"
      },
      "source": [
        "## What is the mean age per occupation?"
      ]
    },
    {
      "cell_type": "code",
      "metadata": {
        "id": "HVWT29tim2Cy",
        "colab_type": "code",
        "outputId": "bc540c09-c58e-487f-d152-241478b4d987",
        "colab": {
          "base_uri": "https://localhost:8080/",
          "height": 435
        }
      },
      "source": [
        "workers.groupby('occupation').age.mean()"
      ],
      "execution_count": 0,
      "outputs": [
        {
          "output_type": "execute_result",
          "data": {
            "text/plain": [
              "occupation\n",
              "administrator    38.746835\n",
              "artist           31.392857\n",
              "doctor           43.571429\n",
              "educator         42.010526\n",
              "engineer         36.388060\n",
              "entertainment    29.222222\n",
              "executive        38.718750\n",
              "healthcare       41.562500\n",
              "homemaker        32.571429\n",
              "lawyer           36.750000\n",
              "librarian        40.000000\n",
              "marketing        37.615385\n",
              "none             26.555556\n",
              "other            34.523810\n",
              "programmer       33.121212\n",
              "retired          63.071429\n",
              "salesman         35.666667\n",
              "scientist        35.548387\n",
              "student          22.081633\n",
              "technician       33.148148\n",
              "writer           36.311111\n",
              "Name: age, dtype: float64"
            ]
          },
          "metadata": {
            "tags": []
          },
          "execution_count": 4
        }
      ]
    },
    {
      "cell_type": "markdown",
      "metadata": {
        "id": "FS3CkbGunAIs",
        "colab_type": "text"
      },
      "source": [
        "## Male ratio per occupation\n",
        "Sort it from the most to the list"
      ]
    },
    {
      "cell_type": "code",
      "metadata": {
        "id": "z3aaTF4got4s",
        "colab_type": "code",
        "outputId": "47bcb14d-f126-4705-ac32-819bd6057a87",
        "colab": {
          "base_uri": "https://localhost:8080/",
          "height": 378
        }
      },
      "source": [
        "\"\"\"\n",
        "We create a function to apply it and create a new column. We will call it gender number.\n",
        "This function returns values of 1 to count the gender that we are interested in\n",
        "\"\"\"\n",
        "# create a function\n",
        "def gender_to_numeric(x):\n",
        "    if x == 'M':\n",
        "        return 1\n",
        "    if x == 'F':\n",
        "        return 0\n",
        "\n",
        "# apply the function to the gender column and create a new column\n",
        "workers['gender_n'] = workers['gender'].apply(gender_to_numeric)\n",
        "workers.head(10)"
      ],
      "execution_count": 0,
      "outputs": [
        {
          "output_type": "execute_result",
          "data": {
            "text/html": [
              "<div>\n",
              "<style scoped>\n",
              "    .dataframe tbody tr th:only-of-type {\n",
              "        vertical-align: middle;\n",
              "    }\n",
              "\n",
              "    .dataframe tbody tr th {\n",
              "        vertical-align: top;\n",
              "    }\n",
              "\n",
              "    .dataframe thead th {\n",
              "        text-align: right;\n",
              "    }\n",
              "</style>\n",
              "<table border=\"1\" class=\"dataframe\">\n",
              "  <thead>\n",
              "    <tr style=\"text-align: right;\">\n",
              "      <th></th>\n",
              "      <th>age</th>\n",
              "      <th>gender</th>\n",
              "      <th>occupation</th>\n",
              "      <th>zip_code</th>\n",
              "      <th>gender_n</th>\n",
              "    </tr>\n",
              "    <tr>\n",
              "      <th>user_id</th>\n",
              "      <th></th>\n",
              "      <th></th>\n",
              "      <th></th>\n",
              "      <th></th>\n",
              "      <th></th>\n",
              "    </tr>\n",
              "  </thead>\n",
              "  <tbody>\n",
              "    <tr>\n",
              "      <th>1</th>\n",
              "      <td>24</td>\n",
              "      <td>M</td>\n",
              "      <td>technician</td>\n",
              "      <td>85711</td>\n",
              "      <td>1</td>\n",
              "    </tr>\n",
              "    <tr>\n",
              "      <th>2</th>\n",
              "      <td>53</td>\n",
              "      <td>F</td>\n",
              "      <td>other</td>\n",
              "      <td>94043</td>\n",
              "      <td>0</td>\n",
              "    </tr>\n",
              "    <tr>\n",
              "      <th>3</th>\n",
              "      <td>23</td>\n",
              "      <td>M</td>\n",
              "      <td>writer</td>\n",
              "      <td>32067</td>\n",
              "      <td>1</td>\n",
              "    </tr>\n",
              "    <tr>\n",
              "      <th>4</th>\n",
              "      <td>24</td>\n",
              "      <td>M</td>\n",
              "      <td>technician</td>\n",
              "      <td>43537</td>\n",
              "      <td>1</td>\n",
              "    </tr>\n",
              "    <tr>\n",
              "      <th>5</th>\n",
              "      <td>33</td>\n",
              "      <td>F</td>\n",
              "      <td>other</td>\n",
              "      <td>15213</td>\n",
              "      <td>0</td>\n",
              "    </tr>\n",
              "    <tr>\n",
              "      <th>6</th>\n",
              "      <td>42</td>\n",
              "      <td>M</td>\n",
              "      <td>executive</td>\n",
              "      <td>98101</td>\n",
              "      <td>1</td>\n",
              "    </tr>\n",
              "    <tr>\n",
              "      <th>7</th>\n",
              "      <td>57</td>\n",
              "      <td>M</td>\n",
              "      <td>administrator</td>\n",
              "      <td>91344</td>\n",
              "      <td>1</td>\n",
              "    </tr>\n",
              "    <tr>\n",
              "      <th>8</th>\n",
              "      <td>36</td>\n",
              "      <td>M</td>\n",
              "      <td>administrator</td>\n",
              "      <td>05201</td>\n",
              "      <td>1</td>\n",
              "    </tr>\n",
              "    <tr>\n",
              "      <th>9</th>\n",
              "      <td>29</td>\n",
              "      <td>M</td>\n",
              "      <td>student</td>\n",
              "      <td>01002</td>\n",
              "      <td>1</td>\n",
              "    </tr>\n",
              "    <tr>\n",
              "      <th>10</th>\n",
              "      <td>53</td>\n",
              "      <td>M</td>\n",
              "      <td>lawyer</td>\n",
              "      <td>90703</td>\n",
              "      <td>1</td>\n",
              "    </tr>\n",
              "  </tbody>\n",
              "</table>\n",
              "</div>"
            ],
            "text/plain": [
              "         age gender     occupation zip_code  gender_n\n",
              "user_id                                              \n",
              "1         24      M     technician    85711         1\n",
              "2         53      F          other    94043         0\n",
              "3         23      M         writer    32067         1\n",
              "4         24      M     technician    43537         1\n",
              "5         33      F          other    15213         0\n",
              "6         42      M      executive    98101         1\n",
              "7         57      M  administrator    91344         1\n",
              "8         36      M  administrator    05201         1\n",
              "9         29      M        student    01002         1\n",
              "10        53      M         lawyer    90703         1"
            ]
          },
          "metadata": {
            "tags": []
          },
          "execution_count": 10
        }
      ]
    },
    {
      "cell_type": "code",
      "metadata": {
        "id": "ZyEPE6Tpny05",
        "colab_type": "code",
        "outputId": "f1f24288-1554-443e-e49c-e51f2ac0d434",
        "colab": {
          "base_uri": "https://localhost:8080/",
          "height": 417
        }
      },
      "source": [
        "a = workers.groupby('occupation').gender_n.sum() / workers.occupation.value_counts() * 100 \n",
        "\n",
        "# sort to the most male \n",
        "a.sort_values(ascending = False)"
      ],
      "execution_count": 0,
      "outputs": [
        {
          "output_type": "execute_result",
          "data": {
            "text/plain": [
              "doctor           100.000000\n",
              "engineer          97.014925\n",
              "technician        96.296296\n",
              "retired           92.857143\n",
              "programmer        90.909091\n",
              "executive         90.625000\n",
              "scientist         90.322581\n",
              "entertainment     88.888889\n",
              "lawyer            83.333333\n",
              "salesman          75.000000\n",
              "educator          72.631579\n",
              "student           69.387755\n",
              "other             65.714286\n",
              "marketing         61.538462\n",
              "writer            57.777778\n",
              "none              55.555556\n",
              "administrator     54.430380\n",
              "artist            53.571429\n",
              "librarian         43.137255\n",
              "healthcare        31.250000\n",
              "homemaker         14.285714\n",
              "dtype: float64"
            ]
          },
          "metadata": {
            "tags": []
          },
          "execution_count": 11
        }
      ]
    },
    {
      "cell_type": "markdown",
      "metadata": {
        "id": "NFdwsqbXn86-",
        "colab_type": "text"
      },
      "source": [
        "# Female ratio per occupation\n",
        "Sort it from the most to the least"
      ]
    },
    {
      "cell_type": "code",
      "metadata": {
        "id": "QYYQ4cJUopet",
        "colab_type": "code",
        "outputId": "4b7b9045-bc71-4385-dcd6-5595a000d3a9",
        "colab": {
          "base_uri": "https://localhost:8080/",
          "height": 378
        }
      },
      "source": [
        "\"\"\"\n",
        "We create a function to apply it and create a new column. We will call it gender number.\n",
        "This function returns values of 1 to count the gender that we are interested in\n",
        "\"\"\"\n",
        "def gender_to_numeric(x):\n",
        "    if x == 'M':\n",
        "        return 0\n",
        "    if x == 'F':\n",
        "        return 1\n",
        "\n",
        "# apply the function to the gender column and create a new column\n",
        "workers['gender_n'] = workers['gender'].apply(gender_to_numeric)\n",
        "workers.head(10)"
      ],
      "execution_count": 0,
      "outputs": [
        {
          "output_type": "execute_result",
          "data": {
            "text/html": [
              "<div>\n",
              "<style scoped>\n",
              "    .dataframe tbody tr th:only-of-type {\n",
              "        vertical-align: middle;\n",
              "    }\n",
              "\n",
              "    .dataframe tbody tr th {\n",
              "        vertical-align: top;\n",
              "    }\n",
              "\n",
              "    .dataframe thead th {\n",
              "        text-align: right;\n",
              "    }\n",
              "</style>\n",
              "<table border=\"1\" class=\"dataframe\">\n",
              "  <thead>\n",
              "    <tr style=\"text-align: right;\">\n",
              "      <th></th>\n",
              "      <th>age</th>\n",
              "      <th>gender</th>\n",
              "      <th>occupation</th>\n",
              "      <th>zip_code</th>\n",
              "      <th>gender_n</th>\n",
              "    </tr>\n",
              "    <tr>\n",
              "      <th>user_id</th>\n",
              "      <th></th>\n",
              "      <th></th>\n",
              "      <th></th>\n",
              "      <th></th>\n",
              "      <th></th>\n",
              "    </tr>\n",
              "  </thead>\n",
              "  <tbody>\n",
              "    <tr>\n",
              "      <th>1</th>\n",
              "      <td>24</td>\n",
              "      <td>M</td>\n",
              "      <td>technician</td>\n",
              "      <td>85711</td>\n",
              "      <td>0</td>\n",
              "    </tr>\n",
              "    <tr>\n",
              "      <th>2</th>\n",
              "      <td>53</td>\n",
              "      <td>F</td>\n",
              "      <td>other</td>\n",
              "      <td>94043</td>\n",
              "      <td>1</td>\n",
              "    </tr>\n",
              "    <tr>\n",
              "      <th>3</th>\n",
              "      <td>23</td>\n",
              "      <td>M</td>\n",
              "      <td>writer</td>\n",
              "      <td>32067</td>\n",
              "      <td>0</td>\n",
              "    </tr>\n",
              "    <tr>\n",
              "      <th>4</th>\n",
              "      <td>24</td>\n",
              "      <td>M</td>\n",
              "      <td>technician</td>\n",
              "      <td>43537</td>\n",
              "      <td>0</td>\n",
              "    </tr>\n",
              "    <tr>\n",
              "      <th>5</th>\n",
              "      <td>33</td>\n",
              "      <td>F</td>\n",
              "      <td>other</td>\n",
              "      <td>15213</td>\n",
              "      <td>1</td>\n",
              "    </tr>\n",
              "    <tr>\n",
              "      <th>6</th>\n",
              "      <td>42</td>\n",
              "      <td>M</td>\n",
              "      <td>executive</td>\n",
              "      <td>98101</td>\n",
              "      <td>0</td>\n",
              "    </tr>\n",
              "    <tr>\n",
              "      <th>7</th>\n",
              "      <td>57</td>\n",
              "      <td>M</td>\n",
              "      <td>administrator</td>\n",
              "      <td>91344</td>\n",
              "      <td>0</td>\n",
              "    </tr>\n",
              "    <tr>\n",
              "      <th>8</th>\n",
              "      <td>36</td>\n",
              "      <td>M</td>\n",
              "      <td>administrator</td>\n",
              "      <td>05201</td>\n",
              "      <td>0</td>\n",
              "    </tr>\n",
              "    <tr>\n",
              "      <th>9</th>\n",
              "      <td>29</td>\n",
              "      <td>M</td>\n",
              "      <td>student</td>\n",
              "      <td>01002</td>\n",
              "      <td>0</td>\n",
              "    </tr>\n",
              "    <tr>\n",
              "      <th>10</th>\n",
              "      <td>53</td>\n",
              "      <td>M</td>\n",
              "      <td>lawyer</td>\n",
              "      <td>90703</td>\n",
              "      <td>0</td>\n",
              "    </tr>\n",
              "  </tbody>\n",
              "</table>\n",
              "</div>"
            ],
            "text/plain": [
              "         age gender     occupation zip_code  gender_n\n",
              "user_id                                              \n",
              "1         24      M     technician    85711         0\n",
              "2         53      F          other    94043         1\n",
              "3         23      M         writer    32067         0\n",
              "4         24      M     technician    43537         0\n",
              "5         33      F          other    15213         1\n",
              "6         42      M      executive    98101         0\n",
              "7         57      M  administrator    91344         0\n",
              "8         36      M  administrator    05201         0\n",
              "9         29      M        student    01002         0\n",
              "10        53      M         lawyer    90703         0"
            ]
          },
          "metadata": {
            "tags": []
          },
          "execution_count": 12
        }
      ]
    },
    {
      "cell_type": "code",
      "metadata": {
        "id": "7Ti0lOEUoEA8",
        "colab_type": "code",
        "outputId": "43a639a8-b730-4447-cc4f-23bbc2491cb6",
        "colab": {
          "base_uri": "https://localhost:8080/",
          "height": 417
        }
      },
      "source": [
        "a = workers.groupby('occupation').gender_n.sum() / workers.occupation.value_counts() * 100 \n",
        "\n",
        "# sort to the most male \n",
        "a.sort_values(ascending = False)"
      ],
      "execution_count": 0,
      "outputs": [
        {
          "output_type": "execute_result",
          "data": {
            "text/plain": [
              "homemaker        85.714286\n",
              "healthcare       68.750000\n",
              "librarian        56.862745\n",
              "artist           46.428571\n",
              "administrator    45.569620\n",
              "none             44.444444\n",
              "writer           42.222222\n",
              "marketing        38.461538\n",
              "other            34.285714\n",
              "student          30.612245\n",
              "educator         27.368421\n",
              "salesman         25.000000\n",
              "lawyer           16.666667\n",
              "entertainment    11.111111\n",
              "scientist         9.677419\n",
              "executive         9.375000\n",
              "programmer        9.090909\n",
              "retired           7.142857\n",
              "technician        3.703704\n",
              "engineer          2.985075\n",
              "doctor            0.000000\n",
              "dtype: float64"
            ]
          },
          "metadata": {
            "tags": []
          },
          "execution_count": 13
        }
      ]
    },
    {
      "cell_type": "code",
      "metadata": {
        "id": "UrLsIlwgIK8t",
        "colab_type": "code",
        "colab": {
          "base_uri": "https://localhost:8080/",
          "height": 1000
        },
        "outputId": "1879289f-030d-4871-b38a-730ad4a5ea82"
      },
      "source": [
        "# Alejandra's beautiful code - \n",
        "\n",
        "# USE NORMALIZE FOR PERCENTAGE\n",
        "import pandas as pd\n",
        "\n",
        "url = \"https://raw.githubusercontent.com/justmarkham/DAT8/master/data/u.user\"\n",
        "\n",
        "workers = pd.read_table(url, \n",
        "                      sep='|')\n",
        "workers.head()\n",
        "\n",
        "\n",
        "male_female= workers.groupby(by=['occupation', 'gender']).count()\n",
        "\n",
        "male_female.drop('age', axis =1) "
      ],
      "execution_count": 7,
      "outputs": [
        {
          "output_type": "stream",
          "text": [
            "/usr/local/lib/python3.6/dist-packages/ipykernel_launcher.py:6: FutureWarning: read_table is deprecated, use read_csv instead.\n",
            "  \n"
          ],
          "name": "stderr"
        },
        {
          "output_type": "execute_result",
          "data": {
            "text/html": [
              "<div>\n",
              "<style scoped>\n",
              "    .dataframe tbody tr th:only-of-type {\n",
              "        vertical-align: middle;\n",
              "    }\n",
              "\n",
              "    .dataframe tbody tr th {\n",
              "        vertical-align: top;\n",
              "    }\n",
              "\n",
              "    .dataframe thead th {\n",
              "        text-align: right;\n",
              "    }\n",
              "</style>\n",
              "<table border=\"1\" class=\"dataframe\">\n",
              "  <thead>\n",
              "    <tr style=\"text-align: right;\">\n",
              "      <th></th>\n",
              "      <th></th>\n",
              "      <th>user_id</th>\n",
              "      <th>zip_code</th>\n",
              "    </tr>\n",
              "    <tr>\n",
              "      <th>occupation</th>\n",
              "      <th>gender</th>\n",
              "      <th></th>\n",
              "      <th></th>\n",
              "    </tr>\n",
              "  </thead>\n",
              "  <tbody>\n",
              "    <tr>\n",
              "      <th rowspan=\"2\" valign=\"top\">administrator</th>\n",
              "      <th>F</th>\n",
              "      <td>36</td>\n",
              "      <td>36</td>\n",
              "    </tr>\n",
              "    <tr>\n",
              "      <th>M</th>\n",
              "      <td>43</td>\n",
              "      <td>43</td>\n",
              "    </tr>\n",
              "    <tr>\n",
              "      <th rowspan=\"2\" valign=\"top\">artist</th>\n",
              "      <th>F</th>\n",
              "      <td>13</td>\n",
              "      <td>13</td>\n",
              "    </tr>\n",
              "    <tr>\n",
              "      <th>M</th>\n",
              "      <td>15</td>\n",
              "      <td>15</td>\n",
              "    </tr>\n",
              "    <tr>\n",
              "      <th>doctor</th>\n",
              "      <th>M</th>\n",
              "      <td>7</td>\n",
              "      <td>7</td>\n",
              "    </tr>\n",
              "    <tr>\n",
              "      <th rowspan=\"2\" valign=\"top\">educator</th>\n",
              "      <th>F</th>\n",
              "      <td>26</td>\n",
              "      <td>26</td>\n",
              "    </tr>\n",
              "    <tr>\n",
              "      <th>M</th>\n",
              "      <td>69</td>\n",
              "      <td>69</td>\n",
              "    </tr>\n",
              "    <tr>\n",
              "      <th rowspan=\"2\" valign=\"top\">engineer</th>\n",
              "      <th>F</th>\n",
              "      <td>2</td>\n",
              "      <td>2</td>\n",
              "    </tr>\n",
              "    <tr>\n",
              "      <th>M</th>\n",
              "      <td>65</td>\n",
              "      <td>65</td>\n",
              "    </tr>\n",
              "    <tr>\n",
              "      <th rowspan=\"2\" valign=\"top\">entertainment</th>\n",
              "      <th>F</th>\n",
              "      <td>2</td>\n",
              "      <td>2</td>\n",
              "    </tr>\n",
              "    <tr>\n",
              "      <th>M</th>\n",
              "      <td>16</td>\n",
              "      <td>16</td>\n",
              "    </tr>\n",
              "    <tr>\n",
              "      <th rowspan=\"2\" valign=\"top\">executive</th>\n",
              "      <th>F</th>\n",
              "      <td>3</td>\n",
              "      <td>3</td>\n",
              "    </tr>\n",
              "    <tr>\n",
              "      <th>M</th>\n",
              "      <td>29</td>\n",
              "      <td>29</td>\n",
              "    </tr>\n",
              "    <tr>\n",
              "      <th rowspan=\"2\" valign=\"top\">healthcare</th>\n",
              "      <th>F</th>\n",
              "      <td>11</td>\n",
              "      <td>11</td>\n",
              "    </tr>\n",
              "    <tr>\n",
              "      <th>M</th>\n",
              "      <td>5</td>\n",
              "      <td>5</td>\n",
              "    </tr>\n",
              "    <tr>\n",
              "      <th rowspan=\"2\" valign=\"top\">homemaker</th>\n",
              "      <th>F</th>\n",
              "      <td>6</td>\n",
              "      <td>6</td>\n",
              "    </tr>\n",
              "    <tr>\n",
              "      <th>M</th>\n",
              "      <td>1</td>\n",
              "      <td>1</td>\n",
              "    </tr>\n",
              "    <tr>\n",
              "      <th rowspan=\"2\" valign=\"top\">lawyer</th>\n",
              "      <th>F</th>\n",
              "      <td>2</td>\n",
              "      <td>2</td>\n",
              "    </tr>\n",
              "    <tr>\n",
              "      <th>M</th>\n",
              "      <td>10</td>\n",
              "      <td>10</td>\n",
              "    </tr>\n",
              "    <tr>\n",
              "      <th rowspan=\"2\" valign=\"top\">librarian</th>\n",
              "      <th>F</th>\n",
              "      <td>29</td>\n",
              "      <td>29</td>\n",
              "    </tr>\n",
              "    <tr>\n",
              "      <th>M</th>\n",
              "      <td>22</td>\n",
              "      <td>22</td>\n",
              "    </tr>\n",
              "    <tr>\n",
              "      <th rowspan=\"2\" valign=\"top\">marketing</th>\n",
              "      <th>F</th>\n",
              "      <td>10</td>\n",
              "      <td>10</td>\n",
              "    </tr>\n",
              "    <tr>\n",
              "      <th>M</th>\n",
              "      <td>16</td>\n",
              "      <td>16</td>\n",
              "    </tr>\n",
              "    <tr>\n",
              "      <th rowspan=\"2\" valign=\"top\">none</th>\n",
              "      <th>F</th>\n",
              "      <td>4</td>\n",
              "      <td>4</td>\n",
              "    </tr>\n",
              "    <tr>\n",
              "      <th>M</th>\n",
              "      <td>5</td>\n",
              "      <td>5</td>\n",
              "    </tr>\n",
              "    <tr>\n",
              "      <th rowspan=\"2\" valign=\"top\">other</th>\n",
              "      <th>F</th>\n",
              "      <td>36</td>\n",
              "      <td>36</td>\n",
              "    </tr>\n",
              "    <tr>\n",
              "      <th>M</th>\n",
              "      <td>69</td>\n",
              "      <td>69</td>\n",
              "    </tr>\n",
              "    <tr>\n",
              "      <th rowspan=\"2\" valign=\"top\">programmer</th>\n",
              "      <th>F</th>\n",
              "      <td>6</td>\n",
              "      <td>6</td>\n",
              "    </tr>\n",
              "    <tr>\n",
              "      <th>M</th>\n",
              "      <td>60</td>\n",
              "      <td>60</td>\n",
              "    </tr>\n",
              "    <tr>\n",
              "      <th rowspan=\"2\" valign=\"top\">retired</th>\n",
              "      <th>F</th>\n",
              "      <td>1</td>\n",
              "      <td>1</td>\n",
              "    </tr>\n",
              "    <tr>\n",
              "      <th>M</th>\n",
              "      <td>13</td>\n",
              "      <td>13</td>\n",
              "    </tr>\n",
              "    <tr>\n",
              "      <th rowspan=\"2\" valign=\"top\">salesman</th>\n",
              "      <th>F</th>\n",
              "      <td>3</td>\n",
              "      <td>3</td>\n",
              "    </tr>\n",
              "    <tr>\n",
              "      <th>M</th>\n",
              "      <td>9</td>\n",
              "      <td>9</td>\n",
              "    </tr>\n",
              "    <tr>\n",
              "      <th rowspan=\"2\" valign=\"top\">scientist</th>\n",
              "      <th>F</th>\n",
              "      <td>3</td>\n",
              "      <td>3</td>\n",
              "    </tr>\n",
              "    <tr>\n",
              "      <th>M</th>\n",
              "      <td>28</td>\n",
              "      <td>28</td>\n",
              "    </tr>\n",
              "    <tr>\n",
              "      <th rowspan=\"2\" valign=\"top\">student</th>\n",
              "      <th>F</th>\n",
              "      <td>60</td>\n",
              "      <td>60</td>\n",
              "    </tr>\n",
              "    <tr>\n",
              "      <th>M</th>\n",
              "      <td>136</td>\n",
              "      <td>136</td>\n",
              "    </tr>\n",
              "    <tr>\n",
              "      <th rowspan=\"2\" valign=\"top\">technician</th>\n",
              "      <th>F</th>\n",
              "      <td>1</td>\n",
              "      <td>1</td>\n",
              "    </tr>\n",
              "    <tr>\n",
              "      <th>M</th>\n",
              "      <td>26</td>\n",
              "      <td>26</td>\n",
              "    </tr>\n",
              "    <tr>\n",
              "      <th rowspan=\"2\" valign=\"top\">writer</th>\n",
              "      <th>F</th>\n",
              "      <td>19</td>\n",
              "      <td>19</td>\n",
              "    </tr>\n",
              "    <tr>\n",
              "      <th>M</th>\n",
              "      <td>26</td>\n",
              "      <td>26</td>\n",
              "    </tr>\n",
              "  </tbody>\n",
              "</table>\n",
              "</div>"
            ],
            "text/plain": [
              "                      user_id  zip_code\n",
              "occupation    gender                   \n",
              "administrator F            36        36\n",
              "              M            43        43\n",
              "artist        F            13        13\n",
              "              M            15        15\n",
              "doctor        M             7         7\n",
              "educator      F            26        26\n",
              "              M            69        69\n",
              "engineer      F             2         2\n",
              "              M            65        65\n",
              "entertainment F             2         2\n",
              "              M            16        16\n",
              "executive     F             3         3\n",
              "              M            29        29\n",
              "healthcare    F            11        11\n",
              "              M             5         5\n",
              "homemaker     F             6         6\n",
              "              M             1         1\n",
              "lawyer        F             2         2\n",
              "              M            10        10\n",
              "librarian     F            29        29\n",
              "              M            22        22\n",
              "marketing     F            10        10\n",
              "              M            16        16\n",
              "none          F             4         4\n",
              "              M             5         5\n",
              "other         F            36        36\n",
              "              M            69        69\n",
              "programmer    F             6         6\n",
              "              M            60        60\n",
              "retired       F             1         1\n",
              "              M            13        13\n",
              "salesman      F             3         3\n",
              "              M             9         9\n",
              "scientist     F             3         3\n",
              "              M            28        28\n",
              "student       F            60        60\n",
              "              M           136       136\n",
              "technician    F             1         1\n",
              "              M            26        26\n",
              "writer        F            19        19\n",
              "              M            26        26"
            ]
          },
          "metadata": {
            "tags": []
          },
          "execution_count": 7
        }
      ]
    },
    {
      "cell_type": "markdown",
      "metadata": {
        "id": "iKAkdx1zo3gb",
        "colab_type": "text"
      },
      "source": [
        "## Calculate the minimum and maximum ages for each occupation"
      ]
    },
    {
      "cell_type": "code",
      "metadata": {
        "id": "pdtEqDm9o-F1",
        "colab_type": "code",
        "outputId": "059d32f2-cc2d-4cee-a7aa-058f78bec42d",
        "colab": {
          "base_uri": "https://localhost:8080/",
          "height": 708
        }
      },
      "source": [
        "workers.groupby('occupation').age.agg(['min', 'max'])"
      ],
      "execution_count": 0,
      "outputs": [
        {
          "output_type": "execute_result",
          "data": {
            "text/html": [
              "<div>\n",
              "<style scoped>\n",
              "    .dataframe tbody tr th:only-of-type {\n",
              "        vertical-align: middle;\n",
              "    }\n",
              "\n",
              "    .dataframe tbody tr th {\n",
              "        vertical-align: top;\n",
              "    }\n",
              "\n",
              "    .dataframe thead th {\n",
              "        text-align: right;\n",
              "    }\n",
              "</style>\n",
              "<table border=\"1\" class=\"dataframe\">\n",
              "  <thead>\n",
              "    <tr style=\"text-align: right;\">\n",
              "      <th></th>\n",
              "      <th>min</th>\n",
              "      <th>max</th>\n",
              "    </tr>\n",
              "    <tr>\n",
              "      <th>occupation</th>\n",
              "      <th></th>\n",
              "      <th></th>\n",
              "    </tr>\n",
              "  </thead>\n",
              "  <tbody>\n",
              "    <tr>\n",
              "      <th>administrator</th>\n",
              "      <td>21</td>\n",
              "      <td>70</td>\n",
              "    </tr>\n",
              "    <tr>\n",
              "      <th>artist</th>\n",
              "      <td>19</td>\n",
              "      <td>48</td>\n",
              "    </tr>\n",
              "    <tr>\n",
              "      <th>doctor</th>\n",
              "      <td>28</td>\n",
              "      <td>64</td>\n",
              "    </tr>\n",
              "    <tr>\n",
              "      <th>educator</th>\n",
              "      <td>23</td>\n",
              "      <td>63</td>\n",
              "    </tr>\n",
              "    <tr>\n",
              "      <th>engineer</th>\n",
              "      <td>22</td>\n",
              "      <td>70</td>\n",
              "    </tr>\n",
              "    <tr>\n",
              "      <th>entertainment</th>\n",
              "      <td>15</td>\n",
              "      <td>50</td>\n",
              "    </tr>\n",
              "    <tr>\n",
              "      <th>executive</th>\n",
              "      <td>22</td>\n",
              "      <td>69</td>\n",
              "    </tr>\n",
              "    <tr>\n",
              "      <th>healthcare</th>\n",
              "      <td>22</td>\n",
              "      <td>62</td>\n",
              "    </tr>\n",
              "    <tr>\n",
              "      <th>homemaker</th>\n",
              "      <td>20</td>\n",
              "      <td>50</td>\n",
              "    </tr>\n",
              "    <tr>\n",
              "      <th>lawyer</th>\n",
              "      <td>21</td>\n",
              "      <td>53</td>\n",
              "    </tr>\n",
              "    <tr>\n",
              "      <th>librarian</th>\n",
              "      <td>23</td>\n",
              "      <td>69</td>\n",
              "    </tr>\n",
              "    <tr>\n",
              "      <th>marketing</th>\n",
              "      <td>24</td>\n",
              "      <td>55</td>\n",
              "    </tr>\n",
              "    <tr>\n",
              "      <th>none</th>\n",
              "      <td>11</td>\n",
              "      <td>55</td>\n",
              "    </tr>\n",
              "    <tr>\n",
              "      <th>other</th>\n",
              "      <td>13</td>\n",
              "      <td>64</td>\n",
              "    </tr>\n",
              "    <tr>\n",
              "      <th>programmer</th>\n",
              "      <td>20</td>\n",
              "      <td>63</td>\n",
              "    </tr>\n",
              "    <tr>\n",
              "      <th>retired</th>\n",
              "      <td>51</td>\n",
              "      <td>73</td>\n",
              "    </tr>\n",
              "    <tr>\n",
              "      <th>salesman</th>\n",
              "      <td>18</td>\n",
              "      <td>66</td>\n",
              "    </tr>\n",
              "    <tr>\n",
              "      <th>scientist</th>\n",
              "      <td>23</td>\n",
              "      <td>55</td>\n",
              "    </tr>\n",
              "    <tr>\n",
              "      <th>student</th>\n",
              "      <td>7</td>\n",
              "      <td>42</td>\n",
              "    </tr>\n",
              "    <tr>\n",
              "      <th>technician</th>\n",
              "      <td>21</td>\n",
              "      <td>55</td>\n",
              "    </tr>\n",
              "    <tr>\n",
              "      <th>writer</th>\n",
              "      <td>18</td>\n",
              "      <td>60</td>\n",
              "    </tr>\n",
              "  </tbody>\n",
              "</table>\n",
              "</div>"
            ],
            "text/plain": [
              "               min  max\n",
              "occupation             \n",
              "administrator   21   70\n",
              "artist          19   48\n",
              "doctor          28   64\n",
              "educator        23   63\n",
              "engineer        22   70\n",
              "entertainment   15   50\n",
              "executive       22   69\n",
              "healthcare      22   62\n",
              "homemaker       20   50\n",
              "lawyer          21   53\n",
              "librarian       23   69\n",
              "marketing       24   55\n",
              "none            11   55\n",
              "other           13   64\n",
              "programmer      20   63\n",
              "retired         51   73\n",
              "salesman        18   66\n",
              "scientist       23   55\n",
              "student          7   42\n",
              "technician      21   55\n",
              "writer          18   60"
            ]
          },
          "metadata": {
            "tags": []
          },
          "execution_count": 14
        }
      ]
    },
    {
      "cell_type": "markdown",
      "metadata": {
        "id": "fv2YaaBdpNAX",
        "colab_type": "text"
      },
      "source": [
        "## For each combination of occupation and gender, calculate the mean age"
      ]
    },
    {
      "cell_type": "code",
      "metadata": {
        "id": "12qFnFr8pWO2",
        "colab_type": "code",
        "outputId": "03d12ce2-4f5a-4855-9bb6-ebf119c40b15",
        "colab": {
          "base_uri": "https://localhost:8080/",
          "height": 799
        }
      },
      "source": [
        "workers.groupby(['occupation', 'gender']).age.mean()"
      ],
      "execution_count": 0,
      "outputs": [
        {
          "output_type": "execute_result",
          "data": {
            "text/plain": [
              "occupation     gender\n",
              "administrator  F         40.638889\n",
              "               M         37.162791\n",
              "artist         F         30.307692\n",
              "               M         32.333333\n",
              "doctor         M         43.571429\n",
              "educator       F         39.115385\n",
              "               M         43.101449\n",
              "engineer       F         29.500000\n",
              "               M         36.600000\n",
              "entertainment  F         31.000000\n",
              "               M         29.000000\n",
              "executive      F         44.000000\n",
              "               M         38.172414\n",
              "healthcare     F         39.818182\n",
              "               M         45.400000\n",
              "homemaker      F         34.166667\n",
              "               M         23.000000\n",
              "lawyer         F         39.500000\n",
              "               M         36.200000\n",
              "librarian      F         40.000000\n",
              "               M         40.000000\n",
              "marketing      F         37.200000\n",
              "               M         37.875000\n",
              "none           F         36.500000\n",
              "               M         18.600000\n",
              "other          F         35.472222\n",
              "               M         34.028986\n",
              "programmer     F         32.166667\n",
              "               M         33.216667\n",
              "retired        F         70.000000\n",
              "               M         62.538462\n",
              "salesman       F         27.000000\n",
              "               M         38.555556\n",
              "scientist      F         28.333333\n",
              "               M         36.321429\n",
              "student        F         20.750000\n",
              "               M         22.669118\n",
              "technician     F         38.000000\n",
              "               M         32.961538\n",
              "writer         F         37.631579\n",
              "               M         35.346154\n",
              "Name: age, dtype: float64"
            ]
          },
          "metadata": {
            "tags": []
          },
          "execution_count": 15
        }
      ]
    },
    {
      "cell_type": "markdown",
      "metadata": {
        "id": "EI1zDyB7pY5V",
        "colab_type": "text"
      },
      "source": [
        "## For each occupation present the percentage of women and men"
      ]
    },
    {
      "cell_type": "code",
      "metadata": {
        "id": "drYgDxMbpcE9",
        "colab_type": "code",
        "outputId": "e677c1ea-a5ed-44c7-b279-6eb0abc2ca79",
        "colab": {
          "base_uri": "https://localhost:8080/",
          "height": 378
        }
      },
      "source": [
        "# create a data frame and apply count to gender\n",
        "gender_ocup = workers.groupby(['occupation', 'gender']).agg({'gender': 'count'})\n",
        "gender_ocup.head(10)"
      ],
      "execution_count": 0,
      "outputs": [
        {
          "output_type": "execute_result",
          "data": {
            "text/html": [
              "<div>\n",
              "<style scoped>\n",
              "    .dataframe tbody tr th:only-of-type {\n",
              "        vertical-align: middle;\n",
              "    }\n",
              "\n",
              "    .dataframe tbody tr th {\n",
              "        vertical-align: top;\n",
              "    }\n",
              "\n",
              "    .dataframe thead th {\n",
              "        text-align: right;\n",
              "    }\n",
              "</style>\n",
              "<table border=\"1\" class=\"dataframe\">\n",
              "  <thead>\n",
              "    <tr style=\"text-align: right;\">\n",
              "      <th></th>\n",
              "      <th></th>\n",
              "      <th>gender</th>\n",
              "    </tr>\n",
              "    <tr>\n",
              "      <th>occupation</th>\n",
              "      <th>gender</th>\n",
              "      <th></th>\n",
              "    </tr>\n",
              "  </thead>\n",
              "  <tbody>\n",
              "    <tr>\n",
              "      <th rowspan=\"2\" valign=\"top\">administrator</th>\n",
              "      <th>F</th>\n",
              "      <td>36</td>\n",
              "    </tr>\n",
              "    <tr>\n",
              "      <th>M</th>\n",
              "      <td>43</td>\n",
              "    </tr>\n",
              "    <tr>\n",
              "      <th rowspan=\"2\" valign=\"top\">artist</th>\n",
              "      <th>F</th>\n",
              "      <td>13</td>\n",
              "    </tr>\n",
              "    <tr>\n",
              "      <th>M</th>\n",
              "      <td>15</td>\n",
              "    </tr>\n",
              "    <tr>\n",
              "      <th>doctor</th>\n",
              "      <th>M</th>\n",
              "      <td>7</td>\n",
              "    </tr>\n",
              "    <tr>\n",
              "      <th rowspan=\"2\" valign=\"top\">educator</th>\n",
              "      <th>F</th>\n",
              "      <td>26</td>\n",
              "    </tr>\n",
              "    <tr>\n",
              "      <th>M</th>\n",
              "      <td>69</td>\n",
              "    </tr>\n",
              "    <tr>\n",
              "      <th rowspan=\"2\" valign=\"top\">engineer</th>\n",
              "      <th>F</th>\n",
              "      <td>2</td>\n",
              "    </tr>\n",
              "    <tr>\n",
              "      <th>M</th>\n",
              "      <td>65</td>\n",
              "    </tr>\n",
              "    <tr>\n",
              "      <th>entertainment</th>\n",
              "      <th>F</th>\n",
              "      <td>2</td>\n",
              "    </tr>\n",
              "  </tbody>\n",
              "</table>\n",
              "</div>"
            ],
            "text/plain": [
              "                      gender\n",
              "occupation    gender        \n",
              "administrator F           36\n",
              "              M           43\n",
              "artist        F           13\n",
              "              M           15\n",
              "doctor        M            7\n",
              "educator      F           26\n",
              "              M           69\n",
              "engineer      F            2\n",
              "              M           65\n",
              "entertainment F            2"
            ]
          },
          "metadata": {
            "tags": []
          },
          "execution_count": 16
        }
      ]
    },
    {
      "cell_type": "code",
      "metadata": {
        "id": "LA70Hh9jpvPC",
        "colab_type": "code",
        "outputId": "8d109054-e4c2-4b0c-89ec-f384c39fe386",
        "colab": {
          "base_uri": "https://localhost:8080/",
          "height": 378
        }
      },
      "source": [
        "# create a DataFrame and apply count for each occupation\n",
        "occup_count = workers.groupby(['occupation']).agg('count')\n",
        "occup_count.head(10)"
      ],
      "execution_count": 0,
      "outputs": [
        {
          "output_type": "execute_result",
          "data": {
            "text/html": [
              "<div>\n",
              "<style scoped>\n",
              "    .dataframe tbody tr th:only-of-type {\n",
              "        vertical-align: middle;\n",
              "    }\n",
              "\n",
              "    .dataframe tbody tr th {\n",
              "        vertical-align: top;\n",
              "    }\n",
              "\n",
              "    .dataframe thead th {\n",
              "        text-align: right;\n",
              "    }\n",
              "</style>\n",
              "<table border=\"1\" class=\"dataframe\">\n",
              "  <thead>\n",
              "    <tr style=\"text-align: right;\">\n",
              "      <th></th>\n",
              "      <th>age</th>\n",
              "      <th>gender</th>\n",
              "      <th>zip_code</th>\n",
              "      <th>gender_n</th>\n",
              "    </tr>\n",
              "    <tr>\n",
              "      <th>occupation</th>\n",
              "      <th></th>\n",
              "      <th></th>\n",
              "      <th></th>\n",
              "      <th></th>\n",
              "    </tr>\n",
              "  </thead>\n",
              "  <tbody>\n",
              "    <tr>\n",
              "      <th>administrator</th>\n",
              "      <td>79</td>\n",
              "      <td>79</td>\n",
              "      <td>79</td>\n",
              "      <td>79</td>\n",
              "    </tr>\n",
              "    <tr>\n",
              "      <th>artist</th>\n",
              "      <td>28</td>\n",
              "      <td>28</td>\n",
              "      <td>28</td>\n",
              "      <td>28</td>\n",
              "    </tr>\n",
              "    <tr>\n",
              "      <th>doctor</th>\n",
              "      <td>7</td>\n",
              "      <td>7</td>\n",
              "      <td>7</td>\n",
              "      <td>7</td>\n",
              "    </tr>\n",
              "    <tr>\n",
              "      <th>educator</th>\n",
              "      <td>95</td>\n",
              "      <td>95</td>\n",
              "      <td>95</td>\n",
              "      <td>95</td>\n",
              "    </tr>\n",
              "    <tr>\n",
              "      <th>engineer</th>\n",
              "      <td>67</td>\n",
              "      <td>67</td>\n",
              "      <td>67</td>\n",
              "      <td>67</td>\n",
              "    </tr>\n",
              "    <tr>\n",
              "      <th>entertainment</th>\n",
              "      <td>18</td>\n",
              "      <td>18</td>\n",
              "      <td>18</td>\n",
              "      <td>18</td>\n",
              "    </tr>\n",
              "    <tr>\n",
              "      <th>executive</th>\n",
              "      <td>32</td>\n",
              "      <td>32</td>\n",
              "      <td>32</td>\n",
              "      <td>32</td>\n",
              "    </tr>\n",
              "    <tr>\n",
              "      <th>healthcare</th>\n",
              "      <td>16</td>\n",
              "      <td>16</td>\n",
              "      <td>16</td>\n",
              "      <td>16</td>\n",
              "    </tr>\n",
              "    <tr>\n",
              "      <th>homemaker</th>\n",
              "      <td>7</td>\n",
              "      <td>7</td>\n",
              "      <td>7</td>\n",
              "      <td>7</td>\n",
              "    </tr>\n",
              "    <tr>\n",
              "      <th>lawyer</th>\n",
              "      <td>12</td>\n",
              "      <td>12</td>\n",
              "      <td>12</td>\n",
              "      <td>12</td>\n",
              "    </tr>\n",
              "  </tbody>\n",
              "</table>\n",
              "</div>"
            ],
            "text/plain": [
              "               age  gender  zip_code  gender_n\n",
              "occupation                                    \n",
              "administrator   79      79        79        79\n",
              "artist          28      28        28        28\n",
              "doctor           7       7         7         7\n",
              "educator        95      95        95        95\n",
              "engineer        67      67        67        67\n",
              "entertainment   18      18        18        18\n",
              "executive       32      32        32        32\n",
              "healthcare      16      16        16        16\n",
              "homemaker        7       7         7         7\n",
              "lawyer          12      12        12        12"
            ]
          },
          "metadata": {
            "tags": []
          },
          "execution_count": 17
        }
      ]
    },
    {
      "cell_type": "code",
      "metadata": {
        "id": "pQzlOzqZp1G6",
        "colab_type": "code",
        "outputId": "a5847dc8-87e2-4a03-87b6-a76027397822",
        "colab": {
          "base_uri": "https://localhost:8080/",
          "height": 378
        }
      },
      "source": [
        "# divide the gender_ocup per the occup_count and multiply per 100\n",
        "occup_gender = gender_ocup.div(occup_count, level = \"occupation\") * 100\n",
        "occup_gender.head(10)"
      ],
      "execution_count": 0,
      "outputs": [
        {
          "output_type": "execute_result",
          "data": {
            "text/html": [
              "<div>\n",
              "<style scoped>\n",
              "    .dataframe tbody tr th:only-of-type {\n",
              "        vertical-align: middle;\n",
              "    }\n",
              "\n",
              "    .dataframe tbody tr th {\n",
              "        vertical-align: top;\n",
              "    }\n",
              "\n",
              "    .dataframe thead th {\n",
              "        text-align: right;\n",
              "    }\n",
              "</style>\n",
              "<table border=\"1\" class=\"dataframe\">\n",
              "  <thead>\n",
              "    <tr style=\"text-align: right;\">\n",
              "      <th></th>\n",
              "      <th></th>\n",
              "      <th>age</th>\n",
              "      <th>gender</th>\n",
              "      <th>gender_n</th>\n",
              "      <th>zip_code</th>\n",
              "    </tr>\n",
              "    <tr>\n",
              "      <th>occupation</th>\n",
              "      <th>gender</th>\n",
              "      <th></th>\n",
              "      <th></th>\n",
              "      <th></th>\n",
              "      <th></th>\n",
              "    </tr>\n",
              "  </thead>\n",
              "  <tbody>\n",
              "    <tr>\n",
              "      <th rowspan=\"2\" valign=\"top\">administrator</th>\n",
              "      <th>F</th>\n",
              "      <td>NaN</td>\n",
              "      <td>45.569620</td>\n",
              "      <td>NaN</td>\n",
              "      <td>NaN</td>\n",
              "    </tr>\n",
              "    <tr>\n",
              "      <th>M</th>\n",
              "      <td>NaN</td>\n",
              "      <td>54.430380</td>\n",
              "      <td>NaN</td>\n",
              "      <td>NaN</td>\n",
              "    </tr>\n",
              "    <tr>\n",
              "      <th rowspan=\"2\" valign=\"top\">artist</th>\n",
              "      <th>F</th>\n",
              "      <td>NaN</td>\n",
              "      <td>46.428571</td>\n",
              "      <td>NaN</td>\n",
              "      <td>NaN</td>\n",
              "    </tr>\n",
              "    <tr>\n",
              "      <th>M</th>\n",
              "      <td>NaN</td>\n",
              "      <td>53.571429</td>\n",
              "      <td>NaN</td>\n",
              "      <td>NaN</td>\n",
              "    </tr>\n",
              "    <tr>\n",
              "      <th>doctor</th>\n",
              "      <th>M</th>\n",
              "      <td>NaN</td>\n",
              "      <td>100.000000</td>\n",
              "      <td>NaN</td>\n",
              "      <td>NaN</td>\n",
              "    </tr>\n",
              "    <tr>\n",
              "      <th rowspan=\"2\" valign=\"top\">educator</th>\n",
              "      <th>F</th>\n",
              "      <td>NaN</td>\n",
              "      <td>27.368421</td>\n",
              "      <td>NaN</td>\n",
              "      <td>NaN</td>\n",
              "    </tr>\n",
              "    <tr>\n",
              "      <th>M</th>\n",
              "      <td>NaN</td>\n",
              "      <td>72.631579</td>\n",
              "      <td>NaN</td>\n",
              "      <td>NaN</td>\n",
              "    </tr>\n",
              "    <tr>\n",
              "      <th rowspan=\"2\" valign=\"top\">engineer</th>\n",
              "      <th>F</th>\n",
              "      <td>NaN</td>\n",
              "      <td>2.985075</td>\n",
              "      <td>NaN</td>\n",
              "      <td>NaN</td>\n",
              "    </tr>\n",
              "    <tr>\n",
              "      <th>M</th>\n",
              "      <td>NaN</td>\n",
              "      <td>97.014925</td>\n",
              "      <td>NaN</td>\n",
              "      <td>NaN</td>\n",
              "    </tr>\n",
              "    <tr>\n",
              "      <th>entertainment</th>\n",
              "      <th>F</th>\n",
              "      <td>NaN</td>\n",
              "      <td>11.111111</td>\n",
              "      <td>NaN</td>\n",
              "      <td>NaN</td>\n",
              "    </tr>\n",
              "  </tbody>\n",
              "</table>\n",
              "</div>"
            ],
            "text/plain": [
              "                      age      gender  gender_n  zip_code\n",
              "occupation    gender                                     \n",
              "administrator F       NaN   45.569620       NaN       NaN\n",
              "              M       NaN   54.430380       NaN       NaN\n",
              "artist        F       NaN   46.428571       NaN       NaN\n",
              "              M       NaN   53.571429       NaN       NaN\n",
              "doctor        M       NaN  100.000000       NaN       NaN\n",
              "educator      F       NaN   27.368421       NaN       NaN\n",
              "              M       NaN   72.631579       NaN       NaN\n",
              "engineer      F       NaN    2.985075       NaN       NaN\n",
              "              M       NaN   97.014925       NaN       NaN\n",
              "entertainment F       NaN   11.111111       NaN       NaN"
            ]
          },
          "metadata": {
            "tags": []
          },
          "execution_count": 18
        }
      ]
    },
    {
      "cell_type": "code",
      "metadata": {
        "id": "xv1imQFqp2p8",
        "colab_type": "code",
        "outputId": "1536fbf6-9305-4986-bbd9-7979aac643f0",
        "colab": {
          "base_uri": "https://localhost:8080/",
          "height": 799
        }
      },
      "source": [
        "# present all rows from the 'gender column'\n",
        "occup_gender.loc[: , 'gender']"
      ],
      "execution_count": 0,
      "outputs": [
        {
          "output_type": "execute_result",
          "data": {
            "text/plain": [
              "occupation     gender\n",
              "administrator  F          45.569620\n",
              "               M          54.430380\n",
              "artist         F          46.428571\n",
              "               M          53.571429\n",
              "doctor         M         100.000000\n",
              "educator       F          27.368421\n",
              "               M          72.631579\n",
              "engineer       F           2.985075\n",
              "               M          97.014925\n",
              "entertainment  F          11.111111\n",
              "               M          88.888889\n",
              "executive      F           9.375000\n",
              "               M          90.625000\n",
              "healthcare     F          68.750000\n",
              "               M          31.250000\n",
              "homemaker      F          85.714286\n",
              "               M          14.285714\n",
              "lawyer         F          16.666667\n",
              "               M          83.333333\n",
              "librarian      F          56.862745\n",
              "               M          43.137255\n",
              "marketing      F          38.461538\n",
              "               M          61.538462\n",
              "none           F          44.444444\n",
              "               M          55.555556\n",
              "other          F          34.285714\n",
              "               M          65.714286\n",
              "programmer     F           9.090909\n",
              "               M          90.909091\n",
              "retired        F           7.142857\n",
              "               M          92.857143\n",
              "salesman       F          25.000000\n",
              "               M          75.000000\n",
              "scientist      F           9.677419\n",
              "               M          90.322581\n",
              "student        F          30.612245\n",
              "               M          69.387755\n",
              "technician     F           3.703704\n",
              "               M          96.296296\n",
              "writer         F          42.222222\n",
              "               M          57.777778\n",
              "Name: gender, dtype: float64"
            ]
          },
          "metadata": {
            "tags": []
          },
          "execution_count": 19
        }
      ]
    },
    {
      "cell_type": "markdown",
      "metadata": {
        "id": "2fCqx8EDTEr5",
        "colab_type": "text"
      },
      "source": [
        "## Apply exercises\n",
        "\n",
        "Import this [dataset](https://github.com/vfp1/bts-mbds-data-science-foundations-2019/raw/master/sessions/data/US_Crime_Rates_1960_2014.csv)\n",
        "\n",
        "* What is the type of the columns?\n",
        "* Convert the type of the column Year to datetime64\n",
        "* Set the Year column as the index of the dataframe\n",
        "* Delete the Total column\n",
        "* Group the year by decades and sum the values (take care with population values)\n",
        "* What is the most dangerous decade to live in the US?\n"
      ]
    },
    {
      "cell_type": "code",
      "metadata": {
        "id": "At9YqA8hqX0P",
        "colab_type": "code",
        "outputId": "b1c7ae88-2f58-429d-b2d7-be362b5a1c78",
        "colab": {
          "base_uri": "https://localhost:8080/",
          "height": 198
        }
      },
      "source": [
        "import pandas as pd\n",
        "import numpy as np\n",
        "\n",
        "url = \"https://github.com/vfp1/bts-mbds-data-science-foundations-2019/raw/master/sessions/data/US_Crime_Rates_1960_2014.csv\"\n",
        "\n",
        "crime = pd.read_csv(url)\n",
        "crime.head()"
      ],
      "execution_count": 0,
      "outputs": [
        {
          "output_type": "execute_result",
          "data": {
            "text/html": [
              "<div>\n",
              "<style scoped>\n",
              "    .dataframe tbody tr th:only-of-type {\n",
              "        vertical-align: middle;\n",
              "    }\n",
              "\n",
              "    .dataframe tbody tr th {\n",
              "        vertical-align: top;\n",
              "    }\n",
              "\n",
              "    .dataframe thead th {\n",
              "        text-align: right;\n",
              "    }\n",
              "</style>\n",
              "<table border=\"1\" class=\"dataframe\">\n",
              "  <thead>\n",
              "    <tr style=\"text-align: right;\">\n",
              "      <th></th>\n",
              "      <th>Year</th>\n",
              "      <th>Population</th>\n",
              "      <th>Total</th>\n",
              "      <th>Violent</th>\n",
              "      <th>Property</th>\n",
              "      <th>Murder</th>\n",
              "      <th>Forcible_Rape</th>\n",
              "      <th>Robbery</th>\n",
              "      <th>Aggravated_assault</th>\n",
              "      <th>Burglary</th>\n",
              "      <th>Larceny_Theft</th>\n",
              "      <th>Vehicle_Theft</th>\n",
              "    </tr>\n",
              "  </thead>\n",
              "  <tbody>\n",
              "    <tr>\n",
              "      <th>0</th>\n",
              "      <td>1960</td>\n",
              "      <td>179323175</td>\n",
              "      <td>3384200</td>\n",
              "      <td>288460</td>\n",
              "      <td>3095700</td>\n",
              "      <td>9110</td>\n",
              "      <td>17190</td>\n",
              "      <td>107840</td>\n",
              "      <td>154320</td>\n",
              "      <td>912100</td>\n",
              "      <td>1855400</td>\n",
              "      <td>328200</td>\n",
              "    </tr>\n",
              "    <tr>\n",
              "      <th>1</th>\n",
              "      <td>1961</td>\n",
              "      <td>182992000</td>\n",
              "      <td>3488000</td>\n",
              "      <td>289390</td>\n",
              "      <td>3198600</td>\n",
              "      <td>8740</td>\n",
              "      <td>17220</td>\n",
              "      <td>106670</td>\n",
              "      <td>156760</td>\n",
              "      <td>949600</td>\n",
              "      <td>1913000</td>\n",
              "      <td>336000</td>\n",
              "    </tr>\n",
              "    <tr>\n",
              "      <th>2</th>\n",
              "      <td>1962</td>\n",
              "      <td>185771000</td>\n",
              "      <td>3752200</td>\n",
              "      <td>301510</td>\n",
              "      <td>3450700</td>\n",
              "      <td>8530</td>\n",
              "      <td>17550</td>\n",
              "      <td>110860</td>\n",
              "      <td>164570</td>\n",
              "      <td>994300</td>\n",
              "      <td>2089600</td>\n",
              "      <td>366800</td>\n",
              "    </tr>\n",
              "    <tr>\n",
              "      <th>3</th>\n",
              "      <td>1963</td>\n",
              "      <td>188483000</td>\n",
              "      <td>4109500</td>\n",
              "      <td>316970</td>\n",
              "      <td>3792500</td>\n",
              "      <td>8640</td>\n",
              "      <td>17650</td>\n",
              "      <td>116470</td>\n",
              "      <td>174210</td>\n",
              "      <td>1086400</td>\n",
              "      <td>2297800</td>\n",
              "      <td>408300</td>\n",
              "    </tr>\n",
              "    <tr>\n",
              "      <th>4</th>\n",
              "      <td>1964</td>\n",
              "      <td>191141000</td>\n",
              "      <td>4564600</td>\n",
              "      <td>364220</td>\n",
              "      <td>4200400</td>\n",
              "      <td>9360</td>\n",
              "      <td>21420</td>\n",
              "      <td>130390</td>\n",
              "      <td>203050</td>\n",
              "      <td>1213200</td>\n",
              "      <td>2514400</td>\n",
              "      <td>472800</td>\n",
              "    </tr>\n",
              "  </tbody>\n",
              "</table>\n",
              "</div>"
            ],
            "text/plain": [
              "   Year  Population    Total  ...  Burglary  Larceny_Theft  Vehicle_Theft\n",
              "0  1960   179323175  3384200  ...    912100        1855400         328200\n",
              "1  1961   182992000  3488000  ...    949600        1913000         336000\n",
              "2  1962   185771000  3752200  ...    994300        2089600         366800\n",
              "3  1963   188483000  4109500  ...   1086400        2297800         408300\n",
              "4  1964   191141000  4564600  ...   1213200        2514400         472800\n",
              "\n",
              "[5 rows x 12 columns]"
            ]
          },
          "metadata": {
            "tags": []
          },
          "execution_count": 20
        }
      ]
    },
    {
      "cell_type": "markdown",
      "metadata": {
        "id": "3nf8NRKGn7qM",
        "colab_type": "text"
      },
      "source": [
        "## What is the type of the columns"
      ]
    },
    {
      "cell_type": "code",
      "metadata": {
        "id": "bWhY2QpTqlbJ",
        "colab_type": "code",
        "outputId": "047d7554-a78e-452e-cad5-cd0c546939cc",
        "colab": {
          "base_uri": "https://localhost:8080/",
          "height": 326
        }
      },
      "source": [
        "crime.info()"
      ],
      "execution_count": 0,
      "outputs": [
        {
          "output_type": "stream",
          "text": [
            "<class 'pandas.core.frame.DataFrame'>\n",
            "RangeIndex: 55 entries, 0 to 54\n",
            "Data columns (total 12 columns):\n",
            "Year                  55 non-null int64\n",
            "Population            55 non-null int64\n",
            "Total                 55 non-null int64\n",
            "Violent               55 non-null int64\n",
            "Property              55 non-null int64\n",
            "Murder                55 non-null int64\n",
            "Forcible_Rape         55 non-null int64\n",
            "Robbery               55 non-null int64\n",
            "Aggravated_assault    55 non-null int64\n",
            "Burglary              55 non-null int64\n",
            "Larceny_Theft         55 non-null int64\n",
            "Vehicle_Theft         55 non-null int64\n",
            "dtypes: int64(12)\n",
            "memory usage: 5.2 KB\n"
          ],
          "name": "stdout"
        }
      ]
    },
    {
      "cell_type": "markdown",
      "metadata": {
        "id": "JaMeXi9nqro3",
        "colab_type": "text"
      },
      "source": [
        "If we did not import the dataset with the right timestamp, we will need to treat the datetimes accordingly"
      ]
    },
    {
      "cell_type": "code",
      "metadata": {
        "id": "0ZGs_zX4rDwX",
        "colab_type": "code",
        "outputId": "d5c53bef-36d0-4018-ae9f-6a604fe99b78",
        "colab": {
          "base_uri": "https://localhost:8080/",
          "height": 326
        }
      },
      "source": [
        "crime.Year = pd.to_datetime(crime.Year, format='%Y')\n",
        "crime.info()"
      ],
      "execution_count": 0,
      "outputs": [
        {
          "output_type": "stream",
          "text": [
            "<class 'pandas.core.frame.DataFrame'>\n",
            "RangeIndex: 55 entries, 0 to 54\n",
            "Data columns (total 12 columns):\n",
            "Year                  55 non-null datetime64[ns]\n",
            "Population            55 non-null int64\n",
            "Total                 55 non-null int64\n",
            "Violent               55 non-null int64\n",
            "Property              55 non-null int64\n",
            "Murder                55 non-null int64\n",
            "Forcible_Rape         55 non-null int64\n",
            "Robbery               55 non-null int64\n",
            "Aggravated_assault    55 non-null int64\n",
            "Burglary              55 non-null int64\n",
            "Larceny_Theft         55 non-null int64\n",
            "Vehicle_Theft         55 non-null int64\n",
            "dtypes: datetime64[ns](1), int64(11)\n",
            "memory usage: 5.2 KB\n"
          ],
          "name": "stdout"
        }
      ]
    },
    {
      "cell_type": "markdown",
      "metadata": {
        "id": "_KWE5M7lrK7N",
        "colab_type": "text"
      },
      "source": [
        "## Set the year column as the index of the dataframe"
      ]
    },
    {
      "cell_type": "code",
      "metadata": {
        "id": "_4OZyD-trKUf",
        "colab_type": "code",
        "outputId": "a8ec65be-9b35-4ce7-b51e-3727b25991a4",
        "colab": {
          "base_uri": "https://localhost:8080/",
          "height": 228
        }
      },
      "source": [
        "crime = crime.set_index('Year', drop = True)\n",
        "crime.head()"
      ],
      "execution_count": 0,
      "outputs": [
        {
          "output_type": "execute_result",
          "data": {
            "text/html": [
              "<div>\n",
              "<style scoped>\n",
              "    .dataframe tbody tr th:only-of-type {\n",
              "        vertical-align: middle;\n",
              "    }\n",
              "\n",
              "    .dataframe tbody tr th {\n",
              "        vertical-align: top;\n",
              "    }\n",
              "\n",
              "    .dataframe thead th {\n",
              "        text-align: right;\n",
              "    }\n",
              "</style>\n",
              "<table border=\"1\" class=\"dataframe\">\n",
              "  <thead>\n",
              "    <tr style=\"text-align: right;\">\n",
              "      <th></th>\n",
              "      <th>Population</th>\n",
              "      <th>Total</th>\n",
              "      <th>Violent</th>\n",
              "      <th>Property</th>\n",
              "      <th>Murder</th>\n",
              "      <th>Forcible_Rape</th>\n",
              "      <th>Robbery</th>\n",
              "      <th>Aggravated_assault</th>\n",
              "      <th>Burglary</th>\n",
              "      <th>Larceny_Theft</th>\n",
              "      <th>Vehicle_Theft</th>\n",
              "    </tr>\n",
              "    <tr>\n",
              "      <th>Year</th>\n",
              "      <th></th>\n",
              "      <th></th>\n",
              "      <th></th>\n",
              "      <th></th>\n",
              "      <th></th>\n",
              "      <th></th>\n",
              "      <th></th>\n",
              "      <th></th>\n",
              "      <th></th>\n",
              "      <th></th>\n",
              "      <th></th>\n",
              "    </tr>\n",
              "  </thead>\n",
              "  <tbody>\n",
              "    <tr>\n",
              "      <th>1960-01-01</th>\n",
              "      <td>179323175</td>\n",
              "      <td>3384200</td>\n",
              "      <td>288460</td>\n",
              "      <td>3095700</td>\n",
              "      <td>9110</td>\n",
              "      <td>17190</td>\n",
              "      <td>107840</td>\n",
              "      <td>154320</td>\n",
              "      <td>912100</td>\n",
              "      <td>1855400</td>\n",
              "      <td>328200</td>\n",
              "    </tr>\n",
              "    <tr>\n",
              "      <th>1961-01-01</th>\n",
              "      <td>182992000</td>\n",
              "      <td>3488000</td>\n",
              "      <td>289390</td>\n",
              "      <td>3198600</td>\n",
              "      <td>8740</td>\n",
              "      <td>17220</td>\n",
              "      <td>106670</td>\n",
              "      <td>156760</td>\n",
              "      <td>949600</td>\n",
              "      <td>1913000</td>\n",
              "      <td>336000</td>\n",
              "    </tr>\n",
              "    <tr>\n",
              "      <th>1962-01-01</th>\n",
              "      <td>185771000</td>\n",
              "      <td>3752200</td>\n",
              "      <td>301510</td>\n",
              "      <td>3450700</td>\n",
              "      <td>8530</td>\n",
              "      <td>17550</td>\n",
              "      <td>110860</td>\n",
              "      <td>164570</td>\n",
              "      <td>994300</td>\n",
              "      <td>2089600</td>\n",
              "      <td>366800</td>\n",
              "    </tr>\n",
              "    <tr>\n",
              "      <th>1963-01-01</th>\n",
              "      <td>188483000</td>\n",
              "      <td>4109500</td>\n",
              "      <td>316970</td>\n",
              "      <td>3792500</td>\n",
              "      <td>8640</td>\n",
              "      <td>17650</td>\n",
              "      <td>116470</td>\n",
              "      <td>174210</td>\n",
              "      <td>1086400</td>\n",
              "      <td>2297800</td>\n",
              "      <td>408300</td>\n",
              "    </tr>\n",
              "    <tr>\n",
              "      <th>1964-01-01</th>\n",
              "      <td>191141000</td>\n",
              "      <td>4564600</td>\n",
              "      <td>364220</td>\n",
              "      <td>4200400</td>\n",
              "      <td>9360</td>\n",
              "      <td>21420</td>\n",
              "      <td>130390</td>\n",
              "      <td>203050</td>\n",
              "      <td>1213200</td>\n",
              "      <td>2514400</td>\n",
              "      <td>472800</td>\n",
              "    </tr>\n",
              "  </tbody>\n",
              "</table>\n",
              "</div>"
            ],
            "text/plain": [
              "            Population    Total  ...  Larceny_Theft  Vehicle_Theft\n",
              "Year                             ...                              \n",
              "1960-01-01   179323175  3384200  ...        1855400         328200\n",
              "1961-01-01   182992000  3488000  ...        1913000         336000\n",
              "1962-01-01   185771000  3752200  ...        2089600         366800\n",
              "1963-01-01   188483000  4109500  ...        2297800         408300\n",
              "1964-01-01   191141000  4564600  ...        2514400         472800\n",
              "\n",
              "[5 rows x 11 columns]"
            ]
          },
          "metadata": {
            "tags": []
          },
          "execution_count": 23
        }
      ]
    },
    {
      "cell_type": "markdown",
      "metadata": {
        "id": "-nQhbYajrXW9",
        "colab_type": "text"
      },
      "source": [
        "## Delete the Total column"
      ]
    },
    {
      "cell_type": "code",
      "metadata": {
        "id": "5ymAzevvra1q",
        "colab_type": "code",
        "outputId": "55d091e1-b6b4-42ef-8c15-b3a317222947",
        "colab": {
          "base_uri": "https://localhost:8080/",
          "height": 228
        }
      },
      "source": [
        "del crime['Total']\n",
        "crime.head()"
      ],
      "execution_count": 0,
      "outputs": [
        {
          "output_type": "execute_result",
          "data": {
            "text/html": [
              "<div>\n",
              "<style scoped>\n",
              "    .dataframe tbody tr th:only-of-type {\n",
              "        vertical-align: middle;\n",
              "    }\n",
              "\n",
              "    .dataframe tbody tr th {\n",
              "        vertical-align: top;\n",
              "    }\n",
              "\n",
              "    .dataframe thead th {\n",
              "        text-align: right;\n",
              "    }\n",
              "</style>\n",
              "<table border=\"1\" class=\"dataframe\">\n",
              "  <thead>\n",
              "    <tr style=\"text-align: right;\">\n",
              "      <th></th>\n",
              "      <th>Population</th>\n",
              "      <th>Violent</th>\n",
              "      <th>Property</th>\n",
              "      <th>Murder</th>\n",
              "      <th>Forcible_Rape</th>\n",
              "      <th>Robbery</th>\n",
              "      <th>Aggravated_assault</th>\n",
              "      <th>Burglary</th>\n",
              "      <th>Larceny_Theft</th>\n",
              "      <th>Vehicle_Theft</th>\n",
              "    </tr>\n",
              "    <tr>\n",
              "      <th>Year</th>\n",
              "      <th></th>\n",
              "      <th></th>\n",
              "      <th></th>\n",
              "      <th></th>\n",
              "      <th></th>\n",
              "      <th></th>\n",
              "      <th></th>\n",
              "      <th></th>\n",
              "      <th></th>\n",
              "      <th></th>\n",
              "    </tr>\n",
              "  </thead>\n",
              "  <tbody>\n",
              "    <tr>\n",
              "      <th>1960-01-01</th>\n",
              "      <td>179323175</td>\n",
              "      <td>288460</td>\n",
              "      <td>3095700</td>\n",
              "      <td>9110</td>\n",
              "      <td>17190</td>\n",
              "      <td>107840</td>\n",
              "      <td>154320</td>\n",
              "      <td>912100</td>\n",
              "      <td>1855400</td>\n",
              "      <td>328200</td>\n",
              "    </tr>\n",
              "    <tr>\n",
              "      <th>1961-01-01</th>\n",
              "      <td>182992000</td>\n",
              "      <td>289390</td>\n",
              "      <td>3198600</td>\n",
              "      <td>8740</td>\n",
              "      <td>17220</td>\n",
              "      <td>106670</td>\n",
              "      <td>156760</td>\n",
              "      <td>949600</td>\n",
              "      <td>1913000</td>\n",
              "      <td>336000</td>\n",
              "    </tr>\n",
              "    <tr>\n",
              "      <th>1962-01-01</th>\n",
              "      <td>185771000</td>\n",
              "      <td>301510</td>\n",
              "      <td>3450700</td>\n",
              "      <td>8530</td>\n",
              "      <td>17550</td>\n",
              "      <td>110860</td>\n",
              "      <td>164570</td>\n",
              "      <td>994300</td>\n",
              "      <td>2089600</td>\n",
              "      <td>366800</td>\n",
              "    </tr>\n",
              "    <tr>\n",
              "      <th>1963-01-01</th>\n",
              "      <td>188483000</td>\n",
              "      <td>316970</td>\n",
              "      <td>3792500</td>\n",
              "      <td>8640</td>\n",
              "      <td>17650</td>\n",
              "      <td>116470</td>\n",
              "      <td>174210</td>\n",
              "      <td>1086400</td>\n",
              "      <td>2297800</td>\n",
              "      <td>408300</td>\n",
              "    </tr>\n",
              "    <tr>\n",
              "      <th>1964-01-01</th>\n",
              "      <td>191141000</td>\n",
              "      <td>364220</td>\n",
              "      <td>4200400</td>\n",
              "      <td>9360</td>\n",
              "      <td>21420</td>\n",
              "      <td>130390</td>\n",
              "      <td>203050</td>\n",
              "      <td>1213200</td>\n",
              "      <td>2514400</td>\n",
              "      <td>472800</td>\n",
              "    </tr>\n",
              "  </tbody>\n",
              "</table>\n",
              "</div>"
            ],
            "text/plain": [
              "            Population  Violent  ...  Larceny_Theft  Vehicle_Theft\n",
              "Year                             ...                              \n",
              "1960-01-01   179323175   288460  ...        1855400         328200\n",
              "1961-01-01   182992000   289390  ...        1913000         336000\n",
              "1962-01-01   185771000   301510  ...        2089600         366800\n",
              "1963-01-01   188483000   316970  ...        2297800         408300\n",
              "1964-01-01   191141000   364220  ...        2514400         472800\n",
              "\n",
              "[5 rows x 10 columns]"
            ]
          },
          "metadata": {
            "tags": []
          },
          "execution_count": 24
        }
      ]
    },
    {
      "cell_type": "markdown",
      "metadata": {
        "id": "9lhmoknprj-3",
        "colab_type": "text"
      },
      "source": [
        "## Group by year, by decades and sum the values\n",
        "\n",
        "Take care with population column"
      ]
    },
    {
      "cell_type": "code",
      "metadata": {
        "id": "1uzZhPpSr3fE",
        "colab_type": "code",
        "outputId": "4ff18408-d7b5-4a87-fa1f-06fc90bcbf9c",
        "colab": {
          "base_uri": "https://localhost:8080/",
          "height": 258
        }
      },
      "source": [
        "# To learn more about .resample (https://pandas.pydata.org/pandas-docs/stable/generated/pandas.DataFrame.resample.html)\n",
        "# To learn more about Offset Aliases (http://pandas.pydata.org/pandas-docs/stable/timeseries.html#offset-aliases)\n",
        "\n",
        "# Uses resample to sum each decade\n",
        "crimes = crime.resample('10AS').sum()\n",
        "crimes.head(10)"
      ],
      "execution_count": 0,
      "outputs": [
        {
          "output_type": "execute_result",
          "data": {
            "text/html": [
              "<div>\n",
              "<style scoped>\n",
              "    .dataframe tbody tr th:only-of-type {\n",
              "        vertical-align: middle;\n",
              "    }\n",
              "\n",
              "    .dataframe tbody tr th {\n",
              "        vertical-align: top;\n",
              "    }\n",
              "\n",
              "    .dataframe thead th {\n",
              "        text-align: right;\n",
              "    }\n",
              "</style>\n",
              "<table border=\"1\" class=\"dataframe\">\n",
              "  <thead>\n",
              "    <tr style=\"text-align: right;\">\n",
              "      <th></th>\n",
              "      <th>Population</th>\n",
              "      <th>Violent</th>\n",
              "      <th>Property</th>\n",
              "      <th>Murder</th>\n",
              "      <th>Forcible_Rape</th>\n",
              "      <th>Robbery</th>\n",
              "      <th>Aggravated_assault</th>\n",
              "      <th>Burglary</th>\n",
              "      <th>Larceny_Theft</th>\n",
              "      <th>Vehicle_Theft</th>\n",
              "    </tr>\n",
              "    <tr>\n",
              "      <th>Year</th>\n",
              "      <th></th>\n",
              "      <th></th>\n",
              "      <th></th>\n",
              "      <th></th>\n",
              "      <th></th>\n",
              "      <th></th>\n",
              "      <th></th>\n",
              "      <th></th>\n",
              "      <th></th>\n",
              "      <th></th>\n",
              "    </tr>\n",
              "  </thead>\n",
              "  <tbody>\n",
              "    <tr>\n",
              "      <th>1960-01-01</th>\n",
              "      <td>1915053175</td>\n",
              "      <td>4134930</td>\n",
              "      <td>45160900</td>\n",
              "      <td>106180</td>\n",
              "      <td>236720</td>\n",
              "      <td>1633510</td>\n",
              "      <td>2158520</td>\n",
              "      <td>13321100</td>\n",
              "      <td>26547700</td>\n",
              "      <td>5292100</td>\n",
              "    </tr>\n",
              "    <tr>\n",
              "      <th>1970-01-01</th>\n",
              "      <td>2121193298</td>\n",
              "      <td>9607930</td>\n",
              "      <td>91383800</td>\n",
              "      <td>192230</td>\n",
              "      <td>554570</td>\n",
              "      <td>4159020</td>\n",
              "      <td>4702120</td>\n",
              "      <td>28486000</td>\n",
              "      <td>53157800</td>\n",
              "      <td>9739900</td>\n",
              "    </tr>\n",
              "    <tr>\n",
              "      <th>1980-01-01</th>\n",
              "      <td>2371370069</td>\n",
              "      <td>14074328</td>\n",
              "      <td>117048900</td>\n",
              "      <td>206439</td>\n",
              "      <td>865639</td>\n",
              "      <td>5383109</td>\n",
              "      <td>7619130</td>\n",
              "      <td>33073494</td>\n",
              "      <td>72040253</td>\n",
              "      <td>11935411</td>\n",
              "    </tr>\n",
              "    <tr>\n",
              "      <th>1990-01-01</th>\n",
              "      <td>2612825258</td>\n",
              "      <td>17527048</td>\n",
              "      <td>119053499</td>\n",
              "      <td>211664</td>\n",
              "      <td>998827</td>\n",
              "      <td>5748930</td>\n",
              "      <td>10568963</td>\n",
              "      <td>26750015</td>\n",
              "      <td>77679366</td>\n",
              "      <td>14624418</td>\n",
              "    </tr>\n",
              "    <tr>\n",
              "      <th>2000-01-01</th>\n",
              "      <td>2947969117</td>\n",
              "      <td>13968056</td>\n",
              "      <td>100944369</td>\n",
              "      <td>163068</td>\n",
              "      <td>922499</td>\n",
              "      <td>4230366</td>\n",
              "      <td>8652124</td>\n",
              "      <td>21565176</td>\n",
              "      <td>67970291</td>\n",
              "      <td>11412834</td>\n",
              "    </tr>\n",
              "    <tr>\n",
              "      <th>2010-01-01</th>\n",
              "      <td>1570146307</td>\n",
              "      <td>6072017</td>\n",
              "      <td>44095950</td>\n",
              "      <td>72867</td>\n",
              "      <td>421059</td>\n",
              "      <td>1749809</td>\n",
              "      <td>3764142</td>\n",
              "      <td>10125170</td>\n",
              "      <td>30401698</td>\n",
              "      <td>3569080</td>\n",
              "    </tr>\n",
              "  </tbody>\n",
              "</table>\n",
              "</div>"
            ],
            "text/plain": [
              "            Population   Violent  ...  Larceny_Theft  Vehicle_Theft\n",
              "Year                              ...                              \n",
              "1960-01-01  1915053175   4134930  ...       26547700        5292100\n",
              "1970-01-01  2121193298   9607930  ...       53157800        9739900\n",
              "1980-01-01  2371370069  14074328  ...       72040253       11935411\n",
              "1990-01-01  2612825258  17527048  ...       77679366       14624418\n",
              "2000-01-01  2947969117  13968056  ...       67970291       11412834\n",
              "2010-01-01  1570146307   6072017  ...       30401698        3569080\n",
              "\n",
              "[6 rows x 10 columns]"
            ]
          },
          "metadata": {
            "tags": []
          },
          "execution_count": 25
        }
      ]
    },
    {
      "cell_type": "code",
      "metadata": {
        "id": "_cEXvdIYsE6Z",
        "colab_type": "code",
        "outputId": "8f194db9-59a4-48aa-b1d1-4246c40dbaf0",
        "colab": {
          "base_uri": "https://localhost:8080/",
          "height": 145
        }
      },
      "source": [
        "# Uses resample to get the max value only for the \"Population\" column\n",
        "population = crime['Population'].resample('10AS').max()\n",
        "population.head(5)"
      ],
      "execution_count": 0,
      "outputs": [
        {
          "output_type": "execute_result",
          "data": {
            "text/plain": [
              "Year\n",
              "1960-01-01    201385000\n",
              "1970-01-01    220099000\n",
              "1980-01-01    248239000\n",
              "1990-01-01    272690813\n",
              "2000-01-01    307006550\n",
              "Freq: 10AS-JAN, Name: Population, dtype: int64"
            ]
          },
          "metadata": {
            "tags": []
          },
          "execution_count": 27
        }
      ]
    },
    {
      "cell_type": "code",
      "metadata": {
        "id": "gY2LuVrjsKdP",
        "colab_type": "code",
        "outputId": "ab31294f-0aee-4508-d1b1-fe63bc97f154",
        "colab": {
          "base_uri": "https://localhost:8080/",
          "height": 228
        }
      },
      "source": [
        "# Updating the \"Population\" column\n",
        "crimes['Population'] = population\n",
        "\n",
        "crimes.head()"
      ],
      "execution_count": 0,
      "outputs": [
        {
          "output_type": "execute_result",
          "data": {
            "text/html": [
              "<div>\n",
              "<style scoped>\n",
              "    .dataframe tbody tr th:only-of-type {\n",
              "        vertical-align: middle;\n",
              "    }\n",
              "\n",
              "    .dataframe tbody tr th {\n",
              "        vertical-align: top;\n",
              "    }\n",
              "\n",
              "    .dataframe thead th {\n",
              "        text-align: right;\n",
              "    }\n",
              "</style>\n",
              "<table border=\"1\" class=\"dataframe\">\n",
              "  <thead>\n",
              "    <tr style=\"text-align: right;\">\n",
              "      <th></th>\n",
              "      <th>Population</th>\n",
              "      <th>Violent</th>\n",
              "      <th>Property</th>\n",
              "      <th>Murder</th>\n",
              "      <th>Forcible_Rape</th>\n",
              "      <th>Robbery</th>\n",
              "      <th>Aggravated_assault</th>\n",
              "      <th>Burglary</th>\n",
              "      <th>Larceny_Theft</th>\n",
              "      <th>Vehicle_Theft</th>\n",
              "    </tr>\n",
              "    <tr>\n",
              "      <th>Year</th>\n",
              "      <th></th>\n",
              "      <th></th>\n",
              "      <th></th>\n",
              "      <th></th>\n",
              "      <th></th>\n",
              "      <th></th>\n",
              "      <th></th>\n",
              "      <th></th>\n",
              "      <th></th>\n",
              "      <th></th>\n",
              "    </tr>\n",
              "  </thead>\n",
              "  <tbody>\n",
              "    <tr>\n",
              "      <th>1960-01-01</th>\n",
              "      <td>201385000</td>\n",
              "      <td>4134930</td>\n",
              "      <td>45160900</td>\n",
              "      <td>106180</td>\n",
              "      <td>236720</td>\n",
              "      <td>1633510</td>\n",
              "      <td>2158520</td>\n",
              "      <td>13321100</td>\n",
              "      <td>26547700</td>\n",
              "      <td>5292100</td>\n",
              "    </tr>\n",
              "    <tr>\n",
              "      <th>1970-01-01</th>\n",
              "      <td>220099000</td>\n",
              "      <td>9607930</td>\n",
              "      <td>91383800</td>\n",
              "      <td>192230</td>\n",
              "      <td>554570</td>\n",
              "      <td>4159020</td>\n",
              "      <td>4702120</td>\n",
              "      <td>28486000</td>\n",
              "      <td>53157800</td>\n",
              "      <td>9739900</td>\n",
              "    </tr>\n",
              "    <tr>\n",
              "      <th>1980-01-01</th>\n",
              "      <td>248239000</td>\n",
              "      <td>14074328</td>\n",
              "      <td>117048900</td>\n",
              "      <td>206439</td>\n",
              "      <td>865639</td>\n",
              "      <td>5383109</td>\n",
              "      <td>7619130</td>\n",
              "      <td>33073494</td>\n",
              "      <td>72040253</td>\n",
              "      <td>11935411</td>\n",
              "    </tr>\n",
              "    <tr>\n",
              "      <th>1990-01-01</th>\n",
              "      <td>272690813</td>\n",
              "      <td>17527048</td>\n",
              "      <td>119053499</td>\n",
              "      <td>211664</td>\n",
              "      <td>998827</td>\n",
              "      <td>5748930</td>\n",
              "      <td>10568963</td>\n",
              "      <td>26750015</td>\n",
              "      <td>77679366</td>\n",
              "      <td>14624418</td>\n",
              "    </tr>\n",
              "    <tr>\n",
              "      <th>2000-01-01</th>\n",
              "      <td>307006550</td>\n",
              "      <td>13968056</td>\n",
              "      <td>100944369</td>\n",
              "      <td>163068</td>\n",
              "      <td>922499</td>\n",
              "      <td>4230366</td>\n",
              "      <td>8652124</td>\n",
              "      <td>21565176</td>\n",
              "      <td>67970291</td>\n",
              "      <td>11412834</td>\n",
              "    </tr>\n",
              "  </tbody>\n",
              "</table>\n",
              "</div>"
            ],
            "text/plain": [
              "            Population   Violent  ...  Larceny_Theft  Vehicle_Theft\n",
              "Year                              ...                              \n",
              "1960-01-01   201385000   4134930  ...       26547700        5292100\n",
              "1970-01-01   220099000   9607930  ...       53157800        9739900\n",
              "1980-01-01   248239000  14074328  ...       72040253       11935411\n",
              "1990-01-01   272690813  17527048  ...       77679366       14624418\n",
              "2000-01-01   307006550  13968056  ...       67970291       11412834\n",
              "\n",
              "[5 rows x 10 columns]"
            ]
          },
          "metadata": {
            "tags": []
          },
          "execution_count": 31
        }
      ]
    },
    {
      "cell_type": "markdown",
      "metadata": {
        "id": "jEeiXOTpse6q",
        "colab_type": "text"
      },
      "source": [
        "## What is the most dangerous decade to live in the US?\n"
      ]
    },
    {
      "cell_type": "code",
      "metadata": {
        "id": "995mhga1stQi",
        "colab_type": "code",
        "outputId": "c90061ff-394a-4d16-8f76-a9bef339c1e8",
        "colab": {
          "base_uri": "https://localhost:8080/",
          "height": 217
        }
      },
      "source": [
        "crime.idxmax(0)"
      ],
      "execution_count": 0,
      "outputs": [
        {
          "output_type": "execute_result",
          "data": {
            "text/plain": [
              "Population           2014-01-01\n",
              "Violent              1992-01-01\n",
              "Property             1991-01-01\n",
              "Murder               1991-01-01\n",
              "Forcible_Rape        1992-01-01\n",
              "Robbery              1991-01-01\n",
              "Aggravated_assault   1993-01-01\n",
              "Burglary             1980-01-01\n",
              "Larceny_Theft        1991-01-01\n",
              "Vehicle_Theft        1991-01-01\n",
              "dtype: datetime64[ns]"
            ]
          },
          "metadata": {
            "tags": []
          },
          "execution_count": 30
        }
      ]
    },
    {
      "cell_type": "markdown",
      "metadata": {
        "id": "TtTjzzqEKs9W",
        "colab_type": "text"
      },
      "source": [
        "# SQLite and Pandas"
      ]
    },
    {
      "cell_type": "markdown",
      "metadata": {
        "id": "kdc6MV8VPqnI",
        "colab_type": "text"
      },
      "source": [
        "## SQLite, Pandas and the world of tips"
      ]
    },
    {
      "cell_type": "markdown",
      "metadata": {
        "id": "aAl6NWYfP-QR",
        "colab_type": "text"
      },
      "source": [
        "Given [this](https://raw.github.com/pandas-dev/pandas/master/pandas/tests/data/tips.csv) CSV file. Do the following:\n",
        "\n",
        "* Load it in Pandas\n",
        "* Save the `DataFrame` as SQLite\n",
        "* Reply the following questions by slicing the SQLite database with SQL queries and then using Pandas for analysis:\n",
        "    * Who is most likely to receive a tip during weekday? A Female or a Male? \n",
        "        * And during weekends?\n",
        "    * What is the table size that is most likely to bring a better tip?\n",
        "    * Who are giving more tips, smokers or non smokers? "
      ]
    },
    {
      "cell_type": "code",
      "metadata": {
        "id": "k5oW5DtRtRY_",
        "colab_type": "code",
        "outputId": "65fa7430-5af5-46c8-c29c-2e2c0cdb8b21",
        "colab": {
          "base_uri": "https://localhost:8080/",
          "height": 202
        }
      },
      "source": [
        "import pandas as pd\n",
        "import numpy as np\n",
        "\n",
        "url = 'https://raw.github.com/pandas-dev/pandas/master/pandas/tests/data/tips.csv'\n",
        "\n",
        "tips = pd.read_csv(url)\n",
        "tips.head()"
      ],
      "execution_count": 8,
      "outputs": [
        {
          "output_type": "execute_result",
          "data": {
            "text/html": [
              "<div>\n",
              "<style scoped>\n",
              "    .dataframe tbody tr th:only-of-type {\n",
              "        vertical-align: middle;\n",
              "    }\n",
              "\n",
              "    .dataframe tbody tr th {\n",
              "        vertical-align: top;\n",
              "    }\n",
              "\n",
              "    .dataframe thead th {\n",
              "        text-align: right;\n",
              "    }\n",
              "</style>\n",
              "<table border=\"1\" class=\"dataframe\">\n",
              "  <thead>\n",
              "    <tr style=\"text-align: right;\">\n",
              "      <th></th>\n",
              "      <th>total_bill</th>\n",
              "      <th>tip</th>\n",
              "      <th>sex</th>\n",
              "      <th>smoker</th>\n",
              "      <th>day</th>\n",
              "      <th>time</th>\n",
              "      <th>size</th>\n",
              "    </tr>\n",
              "  </thead>\n",
              "  <tbody>\n",
              "    <tr>\n",
              "      <th>0</th>\n",
              "      <td>16.99</td>\n",
              "      <td>1.01</td>\n",
              "      <td>Female</td>\n",
              "      <td>No</td>\n",
              "      <td>Sun</td>\n",
              "      <td>Dinner</td>\n",
              "      <td>2</td>\n",
              "    </tr>\n",
              "    <tr>\n",
              "      <th>1</th>\n",
              "      <td>10.34</td>\n",
              "      <td>1.66</td>\n",
              "      <td>Male</td>\n",
              "      <td>No</td>\n",
              "      <td>Sun</td>\n",
              "      <td>Dinner</td>\n",
              "      <td>3</td>\n",
              "    </tr>\n",
              "    <tr>\n",
              "      <th>2</th>\n",
              "      <td>21.01</td>\n",
              "      <td>3.50</td>\n",
              "      <td>Male</td>\n",
              "      <td>No</td>\n",
              "      <td>Sun</td>\n",
              "      <td>Dinner</td>\n",
              "      <td>3</td>\n",
              "    </tr>\n",
              "    <tr>\n",
              "      <th>3</th>\n",
              "      <td>23.68</td>\n",
              "      <td>3.31</td>\n",
              "      <td>Male</td>\n",
              "      <td>No</td>\n",
              "      <td>Sun</td>\n",
              "      <td>Dinner</td>\n",
              "      <td>2</td>\n",
              "    </tr>\n",
              "    <tr>\n",
              "      <th>4</th>\n",
              "      <td>24.59</td>\n",
              "      <td>3.61</td>\n",
              "      <td>Female</td>\n",
              "      <td>No</td>\n",
              "      <td>Sun</td>\n",
              "      <td>Dinner</td>\n",
              "      <td>4</td>\n",
              "    </tr>\n",
              "  </tbody>\n",
              "</table>\n",
              "</div>"
            ],
            "text/plain": [
              "   total_bill   tip     sex smoker  day    time  size\n",
              "0       16.99  1.01  Female     No  Sun  Dinner     2\n",
              "1       10.34  1.66    Male     No  Sun  Dinner     3\n",
              "2       21.01  3.50    Male     No  Sun  Dinner     3\n",
              "3       23.68  3.31    Male     No  Sun  Dinner     2\n",
              "4       24.59  3.61  Female     No  Sun  Dinner     4"
            ]
          },
          "metadata": {
            "tags": []
          },
          "execution_count": 8
        }
      ]
    },
    {
      "cell_type": "markdown",
      "metadata": {
        "id": "Zxx7ekVjtrWz",
        "colab_type": "text"
      },
      "source": [
        "## Save the DataFrame as SQLite"
      ]
    },
    {
      "cell_type": "code",
      "metadata": {
        "id": "5Pd9Q5nKtvaM",
        "colab_type": "code",
        "colab": {}
      },
      "source": [
        "import sqlite3\n",
        "\n",
        "cnx = sqlite3.connect('tips.db')\n",
        "tips.to_sql(name='tips', con=cnx)"
      ],
      "execution_count": 0,
      "outputs": []
    },
    {
      "cell_type": "markdown",
      "metadata": {
        "id": "tmOZCiHluzNM",
        "colab_type": "text"
      },
      "source": [
        "## Setting util functions"
      ]
    },
    {
      "cell_type": "code",
      "metadata": {
        "id": "Gp2clHpbu1yB",
        "colab_type": "code",
        "colab": {}
      },
      "source": [
        "import sqlite3\n",
        "\n",
        "def create_connect_database(db_name):\n",
        "    \"\"\"Opens connection or creates it if it is not existent\"\"\"\n",
        "    connection = sqlite3.connect(db_name)\n",
        "    cursor = connection.cursor()\n",
        "    \n",
        "    return connection, cursor\n",
        "\n",
        "def commit_close(conn, c, close_connection=True):\n",
        "    \"\"\"Commits to connection DB and closes it if close is True\"\"\"\n",
        "    conn.commit()\n",
        "\n",
        "    if close_connection is True:\n",
        "        c.close()\n",
        "        conn.close()\n",
        "    elif close_connection is False:\n",
        "        pass"
      ],
      "execution_count": 0,
      "outputs": []
    },
    {
      "cell_type": "markdown",
      "metadata": {
        "id": "P0xbIJXVuAPw",
        "colab_type": "text"
      },
      "source": [
        "## Who is most likely to receive a tip during weekday? A Female or a Male?\n",
        "And during weekends?"
      ]
    },
    {
      "cell_type": "code",
      "metadata": {
        "id": "CAQxSlmDvBki",
        "colab_type": "code",
        "outputId": "aa66073a-4dd9-4ac0-be3d-0f4c1e74d332",
        "colab": {
          "base_uri": "https://localhost:8080/",
          "height": 294
        }
      },
      "source": [
        "import pandas as pd\n",
        "import sqlite3\n",
        "\n",
        "conn, cursor = create_connect_database(\"tips.db\")\n",
        "\n",
        "query = \"\"\"SELECT day, sex, COUNT(*)\n",
        "FROM tips\n",
        "GROUP BY day, sex;\"\"\"\n",
        "\n",
        "df = pd.read_sql_query(query, conn)\n",
        "df"
      ],
      "execution_count": 11,
      "outputs": [
        {
          "output_type": "execute_result",
          "data": {
            "text/html": [
              "<div>\n",
              "<style scoped>\n",
              "    .dataframe tbody tr th:only-of-type {\n",
              "        vertical-align: middle;\n",
              "    }\n",
              "\n",
              "    .dataframe tbody tr th {\n",
              "        vertical-align: top;\n",
              "    }\n",
              "\n",
              "    .dataframe thead th {\n",
              "        text-align: right;\n",
              "    }\n",
              "</style>\n",
              "<table border=\"1\" class=\"dataframe\">\n",
              "  <thead>\n",
              "    <tr style=\"text-align: right;\">\n",
              "      <th></th>\n",
              "      <th>day</th>\n",
              "      <th>sex</th>\n",
              "      <th>COUNT(*)</th>\n",
              "    </tr>\n",
              "  </thead>\n",
              "  <tbody>\n",
              "    <tr>\n",
              "      <th>0</th>\n",
              "      <td>Fri</td>\n",
              "      <td>Female</td>\n",
              "      <td>9</td>\n",
              "    </tr>\n",
              "    <tr>\n",
              "      <th>1</th>\n",
              "      <td>Fri</td>\n",
              "      <td>Male</td>\n",
              "      <td>10</td>\n",
              "    </tr>\n",
              "    <tr>\n",
              "      <th>2</th>\n",
              "      <td>Sat</td>\n",
              "      <td>Female</td>\n",
              "      <td>28</td>\n",
              "    </tr>\n",
              "    <tr>\n",
              "      <th>3</th>\n",
              "      <td>Sat</td>\n",
              "      <td>Male</td>\n",
              "      <td>59</td>\n",
              "    </tr>\n",
              "    <tr>\n",
              "      <th>4</th>\n",
              "      <td>Sun</td>\n",
              "      <td>Female</td>\n",
              "      <td>18</td>\n",
              "    </tr>\n",
              "    <tr>\n",
              "      <th>5</th>\n",
              "      <td>Sun</td>\n",
              "      <td>Male</td>\n",
              "      <td>58</td>\n",
              "    </tr>\n",
              "    <tr>\n",
              "      <th>6</th>\n",
              "      <td>Thur</td>\n",
              "      <td>Female</td>\n",
              "      <td>32</td>\n",
              "    </tr>\n",
              "    <tr>\n",
              "      <th>7</th>\n",
              "      <td>Thur</td>\n",
              "      <td>Male</td>\n",
              "      <td>30</td>\n",
              "    </tr>\n",
              "  </tbody>\n",
              "</table>\n",
              "</div>"
            ],
            "text/plain": [
              "    day     sex  COUNT(*)\n",
              "0   Fri  Female         9\n",
              "1   Fri    Male        10\n",
              "2   Sat  Female        28\n",
              "3   Sat    Male        59\n",
              "4   Sun  Female        18\n",
              "5   Sun    Male        58\n",
              "6  Thur  Female        32\n",
              "7  Thur    Male        30"
            ]
          },
          "metadata": {
            "tags": []
          },
          "execution_count": 11
        }
      ]
    },
    {
      "cell_type": "code",
      "metadata": {
        "id": "UXVFMCCBYQhD",
        "colab_type": "code",
        "colab": {
          "base_uri": "https://localhost:8080/",
          "height": 171
        },
        "outputId": "e62ce02b-888b-4b51-ca9f-e51232e8dffa"
      },
      "source": [
        "# Giuseppe super advanced SQL\n",
        "\n",
        "query = '''SELECT  \n",
        "\n",
        "                sex \n",
        "\n",
        "                ,CASE \n",
        "\n",
        "                    WHEN (day != 'Sat') and (day != 'Sun') THEN 'weekday' \n",
        "\n",
        "                    ELSE 'weekend' \n",
        "\n",
        "                END AS weekday_weekend \n",
        "\n",
        "                ,count(tip) \n",
        "\n",
        "  \n",
        "\n",
        "FROM tips \n",
        "\n",
        "GROUP BY sex \n",
        "\n",
        "                ,CASE \n",
        "\n",
        "                    WHEN (day != 'Sat') and (day != 'Sun') THEN 'weekday' \n",
        "\n",
        "                    ELSE 'weekend' \n",
        "\n",
        "                END \n",
        "\n",
        "''' \n",
        "df = pd.read_sql_query(query, conn)\n",
        "df"
      ],
      "execution_count": 14,
      "outputs": [
        {
          "output_type": "execute_result",
          "data": {
            "text/html": [
              "<div>\n",
              "<style scoped>\n",
              "    .dataframe tbody tr th:only-of-type {\n",
              "        vertical-align: middle;\n",
              "    }\n",
              "\n",
              "    .dataframe tbody tr th {\n",
              "        vertical-align: top;\n",
              "    }\n",
              "\n",
              "    .dataframe thead th {\n",
              "        text-align: right;\n",
              "    }\n",
              "</style>\n",
              "<table border=\"1\" class=\"dataframe\">\n",
              "  <thead>\n",
              "    <tr style=\"text-align: right;\">\n",
              "      <th></th>\n",
              "      <th>sex</th>\n",
              "      <th>weekday_weekend</th>\n",
              "      <th>count(tip)</th>\n",
              "    </tr>\n",
              "  </thead>\n",
              "  <tbody>\n",
              "    <tr>\n",
              "      <th>0</th>\n",
              "      <td>Female</td>\n",
              "      <td>weekday</td>\n",
              "      <td>41</td>\n",
              "    </tr>\n",
              "    <tr>\n",
              "      <th>1</th>\n",
              "      <td>Female</td>\n",
              "      <td>weekend</td>\n",
              "      <td>46</td>\n",
              "    </tr>\n",
              "    <tr>\n",
              "      <th>2</th>\n",
              "      <td>Male</td>\n",
              "      <td>weekday</td>\n",
              "      <td>40</td>\n",
              "    </tr>\n",
              "    <tr>\n",
              "      <th>3</th>\n",
              "      <td>Male</td>\n",
              "      <td>weekend</td>\n",
              "      <td>117</td>\n",
              "    </tr>\n",
              "  </tbody>\n",
              "</table>\n",
              "</div>"
            ],
            "text/plain": [
              "      sex weekday_weekend  count(tip)\n",
              "0  Female         weekday          41\n",
              "1  Female         weekend          46\n",
              "2    Male         weekday          40\n",
              "3    Male         weekend         117"
            ]
          },
          "metadata": {
            "tags": []
          },
          "execution_count": 14
        }
      ]
    },
    {
      "cell_type": "markdown",
      "metadata": {
        "id": "3DM5Egw3vrBb",
        "colab_type": "text"
      },
      "source": [
        "## What is the table size that is most likely to bring a better tip?"
      ]
    },
    {
      "cell_type": "code",
      "metadata": {
        "id": "Sd41mo8Lvx6f",
        "colab_type": "code",
        "outputId": "89eedeb4-3d47-4cf9-9439-7bb2e01524ac",
        "colab": {
          "base_uri": "https://localhost:8080/",
          "height": 228
        }
      },
      "source": [
        "import pandas as pd\n",
        "import sqlite3\n",
        "\n",
        "conn, cursor = create_connect_database(\"tips.db\")\n",
        "\n",
        "query = \"\"\"SELECT size, AVG(tip), COUNT(*)\n",
        "FROM tips\n",
        "GROUP BY size;\"\"\"\n",
        "\n",
        "df = pd.read_sql_query(query, conn)\n",
        "df"
      ],
      "execution_count": 0,
      "outputs": [
        {
          "output_type": "execute_result",
          "data": {
            "text/html": [
              "<div>\n",
              "<style scoped>\n",
              "    .dataframe tbody tr th:only-of-type {\n",
              "        vertical-align: middle;\n",
              "    }\n",
              "\n",
              "    .dataframe tbody tr th {\n",
              "        vertical-align: top;\n",
              "    }\n",
              "\n",
              "    .dataframe thead th {\n",
              "        text-align: right;\n",
              "    }\n",
              "</style>\n",
              "<table border=\"1\" class=\"dataframe\">\n",
              "  <thead>\n",
              "    <tr style=\"text-align: right;\">\n",
              "      <th></th>\n",
              "      <th>size</th>\n",
              "      <th>AVG(tip)</th>\n",
              "      <th>COUNT(*)</th>\n",
              "    </tr>\n",
              "  </thead>\n",
              "  <tbody>\n",
              "    <tr>\n",
              "      <th>0</th>\n",
              "      <td>1</td>\n",
              "      <td>1.437500</td>\n",
              "      <td>4</td>\n",
              "    </tr>\n",
              "    <tr>\n",
              "      <th>1</th>\n",
              "      <td>2</td>\n",
              "      <td>2.582308</td>\n",
              "      <td>156</td>\n",
              "    </tr>\n",
              "    <tr>\n",
              "      <th>2</th>\n",
              "      <td>3</td>\n",
              "      <td>3.393158</td>\n",
              "      <td>38</td>\n",
              "    </tr>\n",
              "    <tr>\n",
              "      <th>3</th>\n",
              "      <td>4</td>\n",
              "      <td>4.135405</td>\n",
              "      <td>37</td>\n",
              "    </tr>\n",
              "    <tr>\n",
              "      <th>4</th>\n",
              "      <td>5</td>\n",
              "      <td>4.028000</td>\n",
              "      <td>5</td>\n",
              "    </tr>\n",
              "    <tr>\n",
              "      <th>5</th>\n",
              "      <td>6</td>\n",
              "      <td>5.225000</td>\n",
              "      <td>4</td>\n",
              "    </tr>\n",
              "  </tbody>\n",
              "</table>\n",
              "</div>"
            ],
            "text/plain": [
              "   size  AVG(tip)  COUNT(*)\n",
              "0     1  1.437500         4\n",
              "1     2  2.582308       156\n",
              "2     3  3.393158        38\n",
              "3     4  4.135405        37\n",
              "4     5  4.028000         5\n",
              "5     6  5.225000         4"
            ]
          },
          "metadata": {
            "tags": []
          },
          "execution_count": 40
        }
      ]
    },
    {
      "cell_type": "markdown",
      "metadata": {
        "id": "ZoVHbh4tvuFf",
        "colab_type": "text"
      },
      "source": [
        "## Who are giving more tips, smokers or non smokers?"
      ]
    },
    {
      "cell_type": "code",
      "metadata": {
        "id": "6NUkHQmVwQbb",
        "colab_type": "code",
        "outputId": "a817035e-b57c-4743-bf7c-7d411690977f",
        "colab": {
          "base_uri": "https://localhost:8080/",
          "height": 108
        }
      },
      "source": [
        "import pandas as pd\n",
        "import sqlite3\n",
        "\n",
        "conn, cursor = create_connect_database(\"tips.db\")\n",
        "\n",
        "query = \"\"\"SELECT smoker, AVG(tip), COUNT(*)\n",
        "FROM tips\n",
        "GROUP BY smoker;\"\"\"\n",
        "\n",
        "df = pd.read_sql_query(query, conn)\n",
        "df"
      ],
      "execution_count": 0,
      "outputs": [
        {
          "output_type": "execute_result",
          "data": {
            "text/html": [
              "<div>\n",
              "<style scoped>\n",
              "    .dataframe tbody tr th:only-of-type {\n",
              "        vertical-align: middle;\n",
              "    }\n",
              "\n",
              "    .dataframe tbody tr th {\n",
              "        vertical-align: top;\n",
              "    }\n",
              "\n",
              "    .dataframe thead th {\n",
              "        text-align: right;\n",
              "    }\n",
              "</style>\n",
              "<table border=\"1\" class=\"dataframe\">\n",
              "  <thead>\n",
              "    <tr style=\"text-align: right;\">\n",
              "      <th></th>\n",
              "      <th>smoker</th>\n",
              "      <th>AVG(tip)</th>\n",
              "      <th>COUNT(*)</th>\n",
              "    </tr>\n",
              "  </thead>\n",
              "  <tbody>\n",
              "    <tr>\n",
              "      <th>0</th>\n",
              "      <td>No</td>\n",
              "      <td>2.991854</td>\n",
              "      <td>151</td>\n",
              "    </tr>\n",
              "    <tr>\n",
              "      <th>1</th>\n",
              "      <td>Yes</td>\n",
              "      <td>3.008710</td>\n",
              "      <td>93</td>\n",
              "    </tr>\n",
              "  </tbody>\n",
              "</table>\n",
              "</div>"
            ],
            "text/plain": [
              "  smoker  AVG(tip)  COUNT(*)\n",
              "0     No  2.991854       151\n",
              "1    Yes  3.008710        93"
            ]
          },
          "metadata": {
            "tags": []
          },
          "execution_count": 41
        }
      ]
    },
    {
      "cell_type": "markdown",
      "metadata": {
        "id": "oMFekCoyPvkW",
        "colab_type": "text"
      },
      "source": [
        "## More airports, this time without spatial fears\n",
        " "
      ]
    },
    {
      "cell_type": "markdown",
      "metadata": {
        "id": "a_UsxZ2zQC85",
        "colab_type": "text"
      },
      "source": [
        "Download [this Sqlite database](https://github.com/vfp1/bts-mbds-data-science-foundations-2019/raw/master/sessions/data/flights.db)\n",
        "\n",
        "Using SQLite database reply the following questions:\n",
        "\n",
        "*   Which is the country that has the least amount of active airlines?\n",
        "*   And which is the country that has the most amount of active airlines?\n",
        "*   Which is the country that has more airports?\n",
        "*   And the country with the least airports?\n",
        "*   Which country has the most outgoing destinations? And the least?\n",
        "*   And which country has the most incoming destinations? And the least?\n",
        "\n"
      ]
    },
    {
      "cell_type": "markdown",
      "metadata": {
        "colab_type": "text",
        "id": "8QE2Wqh8w9eq"
      },
      "source": [
        "## Setting util functions"
      ]
    },
    {
      "cell_type": "code",
      "metadata": {
        "colab_type": "code",
        "id": "Gw_5NGFSw9eu",
        "colab": {}
      },
      "source": [
        "import sqlite3\n",
        "\n",
        "def create_connect_database(db_name):\n",
        "    \"\"\"Opens connection or creates it if it is not existent\"\"\"\n",
        "    connection = sqlite3.connect(db_name)\n",
        "    cursor = connection.cursor()\n",
        "    \n",
        "    return connection, cursor\n",
        "\n",
        "def commit_close(conn, c, close_connection=True):\n",
        "    \"\"\"Commits to connection DB and closes it if close is True\"\"\"\n",
        "    conn.commit()\n",
        "\n",
        "    if close_connection is True:\n",
        "        c.close()\n",
        "        conn.close()\n",
        "    elif close_connection is False:\n",
        "        pass"
      ],
      "execution_count": 0,
      "outputs": []
    },
    {
      "cell_type": "markdown",
      "metadata": {
        "id": "yJlcFaiMxB1Q",
        "colab_type": "text"
      },
      "source": [
        "## Download and load data"
      ]
    },
    {
      "cell_type": "code",
      "metadata": {
        "id": "8o0sw6WcJY_Z",
        "colab_type": "code",
        "outputId": "fc6b62f0-58ad-456e-b5d9-80728c4a6bdb",
        "colab": {
          "base_uri": "https://localhost:8080/",
          "height": 325
        }
      },
      "source": [
        "!wget \"https://github.com/vfp1/bts-mbds-data-science-foundations-2019/raw/master/sessions/data/flights.db\""
      ],
      "execution_count": 15,
      "outputs": [
        {
          "output_type": "stream",
          "text": [
            "--2019-10-11 10:39:43--  https://github.com/vfp1/bts-mbds-data-science-foundations-2019/raw/master/sessions/data/flights.db\n",
            "Resolving github.com (github.com)... 192.30.253.113\n",
            "Connecting to github.com (github.com)|192.30.253.113|:443... connected.\n",
            "HTTP request sent, awaiting response... 302 Found\n",
            "Location: https://raw.githubusercontent.com/vfp1/bts-mbds-data-science-foundations-2019/master/sessions/data/flights.db [following]\n",
            "--2019-10-11 10:39:43--  https://raw.githubusercontent.com/vfp1/bts-mbds-data-science-foundations-2019/master/sessions/data/flights.db\n",
            "Resolving raw.githubusercontent.com (raw.githubusercontent.com)... 151.101.0.133, 151.101.64.133, 151.101.128.133, ...\n",
            "Connecting to raw.githubusercontent.com (raw.githubusercontent.com)|151.101.0.133|:443... connected.\n",
            "HTTP request sent, awaiting response... 200 OK\n",
            "Length: 5415936 (5.2M) [application/octet-stream]\n",
            "Saving to: ‘flights.db’\n",
            "\n",
            "flights.db          100%[===================>]   5.17M  --.-KB/s    in 0.1s    \n",
            "\n",
            "2019-10-11 10:39:43 (47.3 MB/s) - ‘flights.db’ saved [5415936/5415936]\n",
            "\n"
          ],
          "name": "stdout"
        }
      ]
    },
    {
      "cell_type": "code",
      "metadata": {
        "id": "lCbX-315wzk0",
        "colab_type": "code",
        "outputId": "c050b686-3cdb-4270-9e78-5f6a743b3de1",
        "colab": {
          "base_uri": "https://localhost:8080/",
          "height": 35
        }
      },
      "source": [
        "import sqlite3\n",
        "\n",
        "connection, cursor = create_connect_database('flights.db')\n",
        "\n",
        "cursor.execute(\"SELECT name FROM SQLite_master WHERE type='table';\")\n",
        "tables = cursor.fetchall()\n",
        "print(tables)"
      ],
      "execution_count": 16,
      "outputs": [
        {
          "output_type": "stream",
          "text": [
            "[('airports',), ('airlines',), ('routes',)]\n"
          ],
          "name": "stdout"
        }
      ]
    },
    {
      "cell_type": "markdown",
      "metadata": {
        "id": "8mvgQ3E0xO7b",
        "colab_type": "text"
      },
      "source": [
        "## Which is the country that has the least amount of active airlines?"
      ]
    },
    {
      "cell_type": "code",
      "metadata": {
        "id": "p4u4vphMx-4y",
        "colab_type": "code",
        "outputId": "8e5beae8-45a0-4fdb-faf0-85efc2e41045",
        "colab": {
          "base_uri": "https://localhost:8080/",
          "height": 202
        }
      },
      "source": [
        "import pandas as pd\n",
        "import sqlite3\n",
        "\n",
        "conn, cursor = create_connect_database(\"flights.db\")\n",
        "\n",
        "query = \"\"\"SELECT country FROM airlines WHERE active=='Y';\"\"\"\n",
        "\n",
        "df = pd.read_sql_query(query, conn)\n",
        "df.head(5)"
      ],
      "execution_count": 17,
      "outputs": [
        {
          "output_type": "execute_result",
          "data": {
            "text/html": [
              "<div>\n",
              "<style scoped>\n",
              "    .dataframe tbody tr th:only-of-type {\n",
              "        vertical-align: middle;\n",
              "    }\n",
              "\n",
              "    .dataframe tbody tr th {\n",
              "        vertical-align: top;\n",
              "    }\n",
              "\n",
              "    .dataframe thead th {\n",
              "        text-align: right;\n",
              "    }\n",
              "</style>\n",
              "<table border=\"1\" class=\"dataframe\">\n",
              "  <thead>\n",
              "    <tr style=\"text-align: right;\">\n",
              "      <th></th>\n",
              "      <th>country</th>\n",
              "    </tr>\n",
              "  </thead>\n",
              "  <tbody>\n",
              "    <tr>\n",
              "      <th>0</th>\n",
              "      <td>None</td>\n",
              "    </tr>\n",
              "    <tr>\n",
              "      <th>1</th>\n",
              "      <td>South Africa</td>\n",
              "    </tr>\n",
              "    <tr>\n",
              "      <th>2</th>\n",
              "      <td>United States</td>\n",
              "    </tr>\n",
              "    <tr>\n",
              "      <th>3</th>\n",
              "      <td>Australia</td>\n",
              "    </tr>\n",
              "    <tr>\n",
              "      <th>4</th>\n",
              "      <td>Singapore</td>\n",
              "    </tr>\n",
              "  </tbody>\n",
              "</table>\n",
              "</div>"
            ],
            "text/plain": [
              "         country\n",
              "0           None\n",
              "1   South Africa\n",
              "2  United States\n",
              "3      Australia\n",
              "4      Singapore"
            ]
          },
          "metadata": {
            "tags": []
          },
          "execution_count": 17
        }
      ]
    },
    {
      "cell_type": "code",
      "metadata": {
        "id": "QNa33WZRyGCu",
        "colab_type": "code",
        "outputId": "138a1b0b-6376-4534-ff6b-a171f6609997",
        "colab": {
          "base_uri": "https://localhost:8080/",
          "height": 1000
        }
      },
      "source": [
        "df['country'].value_counts().sort_values(ascending=True)"
      ],
      "execution_count": 18,
      "outputs": [
        {
          "output_type": "execute_result",
          "data": {
            "text/plain": [
              "Kiribati                                   1\n",
              "Turkmenistan                               1\n",
              "Faroe Islands                              1\n",
              "Guatemala                                  1\n",
              "Syrian Arab Republic                       1\n",
              "Vanuatu                                    1\n",
              "Lao Peoples Democratic Republic            1\n",
              "Niger                                      1\n",
              "Solomon Islands                            1\n",
              "Benin                                      1\n",
              "Montenegro                                 1\n",
              "Antigua and Barbuda                        1\n",
              "Senegal                                    1\n",
              "ALASKA                                     1\n",
              "AVIANCA                                    1\n",
              "Palau                                      1\n",
              "Burkina Faso                               1\n",
              "Trinidad and Tobago                        1\n",
              "Equatorial Guinea                          1\n",
              "Luxembourg                                 1\n",
              "Democratic People's Republic of Korea      1\n",
              "Namibia                                    1\n",
              "Togo                                       1\n",
              "Madagascar                                 1\n",
              "Rwanda                                     1\n",
              "Sao Tome and Principe                      1\n",
              "Saint Vincent and the Grenadines           1\n",
              "Suriname                                   1\n",
              "Aruba                                      1\n",
              "Botswana                                   1\n",
              "                                        ... \n",
              "Iceland                                    9\n",
              "Colombia                                   9\n",
              "Argentina                                 10\n",
              "Greece                                    10\n",
              "South Africa                              10\n",
              "Peru                                      11\n",
              "Egypt                                     12\n",
              "Finland                                   12\n",
              "Austria                                   12\n",
              "Mexico                                    12\n",
              "Portugal                                  13\n",
              "Ukraine                                   13\n",
              "Switzerland                               14\n",
              "Sweden                                    15\n",
              "Thailand                                  16\n",
              "Turkey                                    16\n",
              "India                                     17\n",
              "Indonesia                                 17\n",
              "Italy                                     18\n",
              "Japan                                     19\n",
              "France                                    22\n",
              "Brazil                                    23\n",
              "Spain                                     24\n",
              "China                                     25\n",
              "Australia                                 26\n",
              "Canada                                    34\n",
              "Germany                                   37\n",
              "United Kingdom                            40\n",
              "Russia                                    72\n",
              "United States                            141\n",
              "Name: country, Length: 194, dtype: int64"
            ]
          },
          "metadata": {
            "tags": []
          },
          "execution_count": 18
        }
      ]
    },
    {
      "cell_type": "markdown",
      "metadata": {
        "id": "tFBri_A00NCA",
        "colab_type": "text"
      },
      "source": [
        "## And which is the country that has the most amount of active airlines?"
      ]
    },
    {
      "cell_type": "code",
      "metadata": {
        "id": "2Q1jHOc7yfr0",
        "colab_type": "code",
        "outputId": "4ead34a7-6566-42f4-fae8-f22047744700",
        "colab": {
          "base_uri": "https://localhost:8080/",
          "height": 1000
        }
      },
      "source": [
        "df['country'].value_counts().sort_values(ascending=False)"
      ],
      "execution_count": 19,
      "outputs": [
        {
          "output_type": "execute_result",
          "data": {
            "text/plain": [
              "United States                            141\n",
              "Russia                                    72\n",
              "United Kingdom                            40\n",
              "Germany                                   37\n",
              "Canada                                    34\n",
              "Australia                                 26\n",
              "China                                     25\n",
              "Spain                                     24\n",
              "Brazil                                    23\n",
              "France                                    22\n",
              "Japan                                     19\n",
              "Italy                                     18\n",
              "Indonesia                                 17\n",
              "India                                     17\n",
              "Turkey                                    16\n",
              "Thailand                                  16\n",
              "Sweden                                    15\n",
              "Switzerland                               14\n",
              "Ukraine                                   13\n",
              "Portugal                                  13\n",
              "Mexico                                    12\n",
              "Austria                                   12\n",
              "Finland                                   12\n",
              "Egypt                                     12\n",
              "Peru                                      11\n",
              "South Africa                              10\n",
              "Greece                                    10\n",
              "Argentina                                 10\n",
              "Colombia                                   9\n",
              "Iceland                                    9\n",
              "                                        ... \n",
              "Botswana                                   1\n",
              "Aruba                                      1\n",
              "Suriname                                   1\n",
              "Saint Vincent and the Grenadines           1\n",
              "Sao Tome and Principe                      1\n",
              "Rwanda                                     1\n",
              "Madagascar                                 1\n",
              "Togo                                       1\n",
              "Namibia                                    1\n",
              "Democratic People's Republic of Korea      1\n",
              "Luxembourg                                 1\n",
              "Equatorial Guinea                          1\n",
              "Trinidad and Tobago                        1\n",
              "Burkina Faso                               1\n",
              "Palau                                      1\n",
              "AVIANCA                                    1\n",
              "ALASKA                                     1\n",
              "Senegal                                    1\n",
              "Antigua and Barbuda                        1\n",
              "Montenegro                                 1\n",
              "Benin                                      1\n",
              "Solomon Islands                            1\n",
              "Niger                                      1\n",
              "Lao Peoples Democratic Republic            1\n",
              "Vanuatu                                    1\n",
              "Syrian Arab Republic                       1\n",
              "Guatemala                                  1\n",
              "Faroe Islands                              1\n",
              "Turkmenistan                               1\n",
              "Kiribati                                   1\n",
              "Name: country, Length: 194, dtype: int64"
            ]
          },
          "metadata": {
            "tags": []
          },
          "execution_count": 19
        }
      ]
    },
    {
      "cell_type": "markdown",
      "metadata": {
        "id": "HThnoMq40RXB",
        "colab_type": "text"
      },
      "source": [
        "## Which is the country that has more airports?\n"
      ]
    },
    {
      "cell_type": "code",
      "metadata": {
        "id": "YXETs67ScmAe",
        "colab_type": "code",
        "colab": {}
      },
      "source": [
        "# Another of Giuseppe's pearls\n",
        "\"\"\"SELECT country, COUNT(name) FROM airports GROUP BY country;\"\"\""
      ],
      "execution_count": 0,
      "outputs": []
    },
    {
      "cell_type": "code",
      "metadata": {
        "id": "vhzSM00M0VvE",
        "colab_type": "code",
        "outputId": "0f513bed-6cf4-4064-c22b-2338300a0345",
        "colab": {
          "base_uri": "https://localhost:8080/",
          "height": 202
        }
      },
      "source": [
        "import pandas as pd\n",
        "import sqlite3\n",
        "\n",
        "conn, cursor = create_connect_database(\"flights.db\")\n",
        "\n",
        "query = \"\"\"SELECT country FROM airports;\"\"\"\n",
        "\n",
        "df = pd.read_sql_query(query, conn)\n",
        "df.head(5)"
      ],
      "execution_count": 20,
      "outputs": [
        {
          "output_type": "execute_result",
          "data": {
            "text/html": [
              "<div>\n",
              "<style scoped>\n",
              "    .dataframe tbody tr th:only-of-type {\n",
              "        vertical-align: middle;\n",
              "    }\n",
              "\n",
              "    .dataframe tbody tr th {\n",
              "        vertical-align: top;\n",
              "    }\n",
              "\n",
              "    .dataframe thead th {\n",
              "        text-align: right;\n",
              "    }\n",
              "</style>\n",
              "<table border=\"1\" class=\"dataframe\">\n",
              "  <thead>\n",
              "    <tr style=\"text-align: right;\">\n",
              "      <th></th>\n",
              "      <th>country</th>\n",
              "    </tr>\n",
              "  </thead>\n",
              "  <tbody>\n",
              "    <tr>\n",
              "      <th>0</th>\n",
              "      <td>Papua New Guinea</td>\n",
              "    </tr>\n",
              "    <tr>\n",
              "      <th>1</th>\n",
              "      <td>Papua New Guinea</td>\n",
              "    </tr>\n",
              "    <tr>\n",
              "      <th>2</th>\n",
              "      <td>Papua New Guinea</td>\n",
              "    </tr>\n",
              "    <tr>\n",
              "      <th>3</th>\n",
              "      <td>Papua New Guinea</td>\n",
              "    </tr>\n",
              "    <tr>\n",
              "      <th>4</th>\n",
              "      <td>Papua New Guinea</td>\n",
              "    </tr>\n",
              "  </tbody>\n",
              "</table>\n",
              "</div>"
            ],
            "text/plain": [
              "            country\n",
              "0  Papua New Guinea\n",
              "1  Papua New Guinea\n",
              "2  Papua New Guinea\n",
              "3  Papua New Guinea\n",
              "4  Papua New Guinea"
            ]
          },
          "metadata": {
            "tags": []
          },
          "execution_count": 20
        }
      ]
    },
    {
      "cell_type": "code",
      "metadata": {
        "id": "lhFW0UKT05G_",
        "colab_type": "code",
        "outputId": "c2d27707-2741-42ac-c923-8438621bc7a8",
        "colab": {
          "base_uri": "https://localhost:8080/",
          "height": 1000
        }
      },
      "source": [
        "df['country'].value_counts().sort_values(ascending=False)"
      ],
      "execution_count": 0,
      "outputs": [
        {
          "output_type": "execute_result",
          "data": {
            "text/plain": [
              "United States                     1697\n",
              "Canada                             435\n",
              "Germany                            321\n",
              "Australia                          263\n",
              "Russia                             249\n",
              "France                             233\n",
              "China                              219\n",
              "Brazil                             213\n",
              "United Kingdom                     210\n",
              "India                              140\n",
              "Japan                              131\n",
              "Indonesia                          114\n",
              "South Africa                       103\n",
              "Argentina                          103\n",
              "Mexico                              94\n",
              "Italy                               92\n",
              "Sweden                              86\n",
              "Spain                               84\n",
              "Iran                                81\n",
              "Turkey                              77\n",
              "Colombia                            72\n",
              "Norway                              69\n",
              "Philippines                         64\n",
              "Greece                              60\n",
              "Venezuela                           58\n",
              "Thailand                            58\n",
              "Papua New Guinea                    57\n",
              "New Zealand                         56\n",
              "Kenya                               55\n",
              "Switzerland                         53\n",
              "                                  ... \n",
              "Christmas Island                     1\n",
              "Myanmar                              1\n",
              "Monaco                               1\n",
              "Barbados                             1\n",
              "Gambia                               1\n",
              "Benin                                1\n",
              "Luxembourg                           1\n",
              "Isle of Man                          1\n",
              "Gibraltar                            1\n",
              "West Bank                            1\n",
              "Bhutan                               1\n",
              "Saint Helena                         1\n",
              "Tuvalu                               1\n",
              "Swaziland                            1\n",
              "Anguilla                             1\n",
              "Aruba                                1\n",
              "Midway Islands                       1\n",
              "Korea                                1\n",
              "Johnston Atoll                       1\n",
              "Nauru                                1\n",
              "Palestine                            1\n",
              "Niue                                 1\n",
              "Cocos (Keeling) Islands              1\n",
              "Norfolk Island                       1\n",
              "Albania                              1\n",
              "Jersey                               1\n",
              "Wake Island                          1\n",
              "Burundi                              1\n",
              "British Indian Ocean Territory       1\n",
              "Mayotte                              1\n",
              "Name: country, Length: 240, dtype: int64"
            ]
          },
          "metadata": {
            "tags": []
          },
          "execution_count": 67
        }
      ]
    },
    {
      "cell_type": "markdown",
      "metadata": {
        "id": "X38srsID0avr",
        "colab_type": "text"
      },
      "source": [
        "## And the country with the least airports?"
      ]
    },
    {
      "cell_type": "code",
      "metadata": {
        "id": "b9RmKpMC0fLz",
        "colab_type": "code",
        "outputId": "762a11a0-7242-4baa-fcc5-1b4b2f3b56d2",
        "colab": {
          "base_uri": "https://localhost:8080/",
          "height": 1000
        }
      },
      "source": [
        "df['country'].value_counts().sort_values(ascending=True)"
      ],
      "execution_count": 0,
      "outputs": [
        {
          "output_type": "execute_result",
          "data": {
            "text/plain": [
              "Mayotte                              1\n",
              "British Indian Ocean Territory       1\n",
              "Burundi                              1\n",
              "Wake Island                          1\n",
              "Jersey                               1\n",
              "Albania                              1\n",
              "Norfolk Island                       1\n",
              "Cocos (Keeling) Islands              1\n",
              "Niue                                 1\n",
              "Palestine                            1\n",
              "Nauru                                1\n",
              "Johnston Atoll                       1\n",
              "Korea                                1\n",
              "Midway Islands                       1\n",
              "Aruba                                1\n",
              "Anguilla                             1\n",
              "Swaziland                            1\n",
              "Tuvalu                               1\n",
              "Saint Helena                         1\n",
              "Bhutan                               1\n",
              "West Bank                            1\n",
              "Gibraltar                            1\n",
              "Isle of Man                          1\n",
              "Luxembourg                           1\n",
              "Benin                                1\n",
              "Gambia                               1\n",
              "Barbados                             1\n",
              "Monaco                               1\n",
              "Myanmar                              1\n",
              "Christmas Island                     1\n",
              "                                  ... \n",
              "Switzerland                         53\n",
              "Kenya                               55\n",
              "New Zealand                         56\n",
              "Papua New Guinea                    57\n",
              "Thailand                            58\n",
              "Venezuela                           58\n",
              "Greece                              60\n",
              "Philippines                         64\n",
              "Norway                              69\n",
              "Colombia                            72\n",
              "Turkey                              77\n",
              "Iran                                81\n",
              "Spain                               84\n",
              "Sweden                              86\n",
              "Italy                               92\n",
              "Mexico                              94\n",
              "Argentina                          103\n",
              "South Africa                       103\n",
              "Indonesia                          114\n",
              "Japan                              131\n",
              "India                              140\n",
              "United Kingdom                     210\n",
              "Brazil                             213\n",
              "China                              219\n",
              "France                             233\n",
              "Russia                             249\n",
              "Australia                          263\n",
              "Germany                            321\n",
              "Canada                             435\n",
              "United States                     1697\n",
              "Name: country, Length: 240, dtype: int64"
            ]
          },
          "metadata": {
            "tags": []
          },
          "execution_count": 68
        }
      ]
    },
    {
      "cell_type": "markdown",
      "metadata": {
        "id": "RUwvPANZ0fkk",
        "colab_type": "text"
      },
      "source": [
        "## Which country has the most outgoing destinations? And the least?"
      ]
    },
    {
      "cell_type": "code",
      "metadata": {
        "id": "VM_W6-jM0h-5",
        "colab_type": "code",
        "outputId": "b7f613ab-0159-494d-e4e4-c784ef488827",
        "colab": {
          "base_uri": "https://localhost:8080/",
          "height": 198
        }
      },
      "source": [
        "import pandas as pd\n",
        "import sqlite3\n",
        "\n",
        "conn, cursor = create_connect_database(\"flights.db\")\n",
        "\n",
        "query = \"\"\"SELECT \n",
        "CAST(source_air.country AS TEXT) AS source_country, \n",
        "CAST(destination_air.country AS TEXT) AS destination_country \n",
        "FROM routes \n",
        "INNER JOIN airports source_air \n",
        "  ON source_air.id = routes.source_id \n",
        "INNER JOIN airports destination_air \n",
        "  ON destination_air.id = routes.dest_id;\"\"\"\n",
        "\n",
        "df = pd.read_sql_query(query, conn)\n",
        "df.head(5)"
      ],
      "execution_count": 0,
      "outputs": [
        {
          "output_type": "execute_result",
          "data": {
            "text/html": [
              "<div>\n",
              "<style scoped>\n",
              "    .dataframe tbody tr th:only-of-type {\n",
              "        vertical-align: middle;\n",
              "    }\n",
              "\n",
              "    .dataframe tbody tr th {\n",
              "        vertical-align: top;\n",
              "    }\n",
              "\n",
              "    .dataframe thead th {\n",
              "        text-align: right;\n",
              "    }\n",
              "</style>\n",
              "<table border=\"1\" class=\"dataframe\">\n",
              "  <thead>\n",
              "    <tr style=\"text-align: right;\">\n",
              "      <th></th>\n",
              "      <th>source_country</th>\n",
              "      <th>destination_country</th>\n",
              "    </tr>\n",
              "  </thead>\n",
              "  <tbody>\n",
              "    <tr>\n",
              "      <th>0</th>\n",
              "      <td>Russia</td>\n",
              "      <td>Russia</td>\n",
              "    </tr>\n",
              "    <tr>\n",
              "      <th>1</th>\n",
              "      <td>Russia</td>\n",
              "      <td>Russia</td>\n",
              "    </tr>\n",
              "    <tr>\n",
              "      <th>2</th>\n",
              "      <td>Russia</td>\n",
              "      <td>Russia</td>\n",
              "    </tr>\n",
              "    <tr>\n",
              "      <th>3</th>\n",
              "      <td>Russia</td>\n",
              "      <td>Russia</td>\n",
              "    </tr>\n",
              "    <tr>\n",
              "      <th>4</th>\n",
              "      <td>Russia</td>\n",
              "      <td>Russia</td>\n",
              "    </tr>\n",
              "  </tbody>\n",
              "</table>\n",
              "</div>"
            ],
            "text/plain": [
              "  source_country destination_country\n",
              "0         Russia              Russia\n",
              "1         Russia              Russia\n",
              "2         Russia              Russia\n",
              "3         Russia              Russia\n",
              "4         Russia              Russia"
            ]
          },
          "metadata": {
            "tags": []
          },
          "execution_count": 69
        }
      ]
    },
    {
      "cell_type": "code",
      "metadata": {
        "id": "c5PAb5Cs2YK3",
        "colab_type": "code",
        "outputId": "4f558e22-ceac-43ef-e109-fc7821782591",
        "colab": {
          "base_uri": "https://localhost:8080/",
          "height": 1000
        }
      },
      "source": [
        "df['source_country'].value_counts().sort_values(ascending=False)"
      ],
      "execution_count": 0,
      "outputs": [
        {
          "output_type": "execute_result",
          "data": {
            "text/plain": [
              "United States                       13178\n",
              "China                                8146\n",
              "United Kingdom                       2661\n",
              "Spain                                2530\n",
              "Germany                              2353\n",
              "France                               1844\n",
              "Canada                               1835\n",
              "Russia                               1810\n",
              "Italy                                1776\n",
              "India                                1506\n",
              "Brazil                               1389\n",
              "Japan                                1294\n",
              "Australia                            1108\n",
              "Mexico                               1059\n",
              "Turkey                                974\n",
              "Indonesia                             827\n",
              "Greece                                787\n",
              "United Arab Emirates                  751\n",
              "Norway                                648\n",
              "Thailand                              605\n",
              "South Korea                           589\n",
              "Netherlands                           570\n",
              "Malaysia                              567\n",
              "Saudi Arabia                          548\n",
              "Portugal                              530\n",
              "Switzerland                           524\n",
              "Sweden                                472\n",
              "Iran                                  425\n",
              "Taiwan                                414\n",
              "Belgium                               412\n",
              "                                    ...  \n",
              "Eritrea                                 8\n",
              "Marshall Islands                        7\n",
              "French Guiana                           7\n",
              "Guinea-Bissau                           7\n",
              "Western Sahara                          7\n",
              "Kiribati                                7\n",
              "Gibraltar                               6\n",
              "Anguilla                                6\n",
              "Korea                                   5\n",
              "Samoa                                   5\n",
              "Tonga                                   5\n",
              "Bhutan                                  5\n",
              "Saint Vincent and the Grenadines        4\n",
              "Faroe Islands                           4\n",
              "East Timor                              4\n",
              "Wallis and Futuna                       4\n",
              "Norfolk Island                          3\n",
              "Sao Tome and Principe                   3\n",
              "Nauru                                   3\n",
              "Central African Republic                3\n",
              "Saint Pierre and Miquelon               3\n",
              "Christmas Island                        2\n",
              "Monaco                                  1\n",
              "American Samoa                          1\n",
              "Lesotho                                 1\n",
              "Tuvalu                                  1\n",
              "Cocos (Keeling) Islands                 1\n",
              "Falkland Islands                        1\n",
              "Swaziland                               1\n",
              "Niue                                    1\n",
              "Name: source_country, Length: 226, dtype: int64"
            ]
          },
          "metadata": {
            "tags": []
          },
          "execution_count": 73
        }
      ]
    },
    {
      "cell_type": "code",
      "metadata": {
        "id": "bkfEe1jP2z-b",
        "colab_type": "code",
        "outputId": "4e2c0480-ad47-4c3b-df95-ebd32d9a841b",
        "colab": {
          "base_uri": "https://localhost:8080/",
          "height": 1000
        }
      },
      "source": [
        "df['source_country'].value_counts().sort_values(ascending=True)"
      ],
      "execution_count": 0,
      "outputs": [
        {
          "output_type": "execute_result",
          "data": {
            "text/plain": [
              "Niue                                    1\n",
              "Swaziland                               1\n",
              "Falkland Islands                        1\n",
              "Cocos (Keeling) Islands                 1\n",
              "Tuvalu                                  1\n",
              "Lesotho                                 1\n",
              "American Samoa                          1\n",
              "Monaco                                  1\n",
              "Christmas Island                        2\n",
              "Saint Pierre and Miquelon               3\n",
              "Central African Republic                3\n",
              "Nauru                                   3\n",
              "Sao Tome and Principe                   3\n",
              "Norfolk Island                          3\n",
              "Wallis and Futuna                       4\n",
              "East Timor                              4\n",
              "Faroe Islands                           4\n",
              "Saint Vincent and the Grenadines        4\n",
              "Bhutan                                  5\n",
              "Tonga                                   5\n",
              "Samoa                                   5\n",
              "Korea                                   5\n",
              "Anguilla                                6\n",
              "Gibraltar                               6\n",
              "Kiribati                                7\n",
              "Western Sahara                          7\n",
              "Guinea-Bissau                           7\n",
              "French Guiana                           7\n",
              "Marshall Islands                        7\n",
              "Eritrea                                 8\n",
              "                                    ...  \n",
              "Belgium                               412\n",
              "Taiwan                                414\n",
              "Iran                                  425\n",
              "Sweden                                472\n",
              "Switzerland                           524\n",
              "Portugal                              530\n",
              "Saudi Arabia                          548\n",
              "Malaysia                              567\n",
              "Netherlands                           570\n",
              "South Korea                           589\n",
              "Thailand                              605\n",
              "Norway                                648\n",
              "United Arab Emirates                  751\n",
              "Greece                                787\n",
              "Indonesia                             827\n",
              "Turkey                                974\n",
              "Mexico                               1059\n",
              "Australia                            1108\n",
              "Japan                                1294\n",
              "Brazil                               1389\n",
              "India                                1506\n",
              "Italy                                1776\n",
              "Russia                               1810\n",
              "Canada                               1835\n",
              "France                               1844\n",
              "Germany                              2353\n",
              "Spain                                2530\n",
              "United Kingdom                       2661\n",
              "China                                8146\n",
              "United States                       13178\n",
              "Name: source_country, Length: 226, dtype: int64"
            ]
          },
          "metadata": {
            "tags": []
          },
          "execution_count": 74
        }
      ]
    },
    {
      "cell_type": "markdown",
      "metadata": {
        "id": "FPcbaqOF0iLI",
        "colab_type": "text"
      },
      "source": [
        "## And which country has the most incoming destinations? And the least?"
      ]
    },
    {
      "cell_type": "code",
      "metadata": {
        "id": "uaD21WlK0joT",
        "colab_type": "code",
        "outputId": "1c1a0390-b7e1-48b1-d96b-1c6c228861e4",
        "colab": {
          "base_uri": "https://localhost:8080/",
          "height": 1000
        }
      },
      "source": [
        "df['destination_country'].value_counts().sort_values(ascending=False)"
      ],
      "execution_count": 0,
      "outputs": [
        {
          "output_type": "execute_result",
          "data": {
            "text/plain": [
              "United States                       13173\n",
              "China                                8146\n",
              "United Kingdom                       2635\n",
              "Spain                                2533\n",
              "Germany                              2337\n",
              "Canada                               1844\n",
              "France                               1842\n",
              "Russia                               1817\n",
              "Italy                                1779\n",
              "India                                1503\n",
              "Brazil                               1386\n",
              "Japan                                1299\n",
              "Australia                            1092\n",
              "Mexico                               1053\n",
              "Turkey                                983\n",
              "Indonesia                             825\n",
              "Greece                                814\n",
              "United Arab Emirates                  741\n",
              "Norway                                648\n",
              "Thailand                              604\n",
              "South Korea                           589\n",
              "Malaysia                              567\n",
              "Netherlands                           566\n",
              "Saudi Arabia                          560\n",
              "Portugal                              541\n",
              "Switzerland                           520\n",
              "Sweden                                474\n",
              "Iran                                  427\n",
              "Taiwan                                412\n",
              "Singapore                             412\n",
              "                                    ...  \n",
              "Palau                                   9\n",
              "Eritrea                                 8\n",
              "French Guiana                           7\n",
              "Kiribati                                7\n",
              "Marshall Islands                        7\n",
              "Western Sahara                          7\n",
              "Guinea-Bissau                           7\n",
              "Anguilla                                6\n",
              "Gibraltar                               6\n",
              "Samoa                                   6\n",
              "Saint Vincent and the Grenadines        5\n",
              "Bhutan                                  5\n",
              "Korea                                   5\n",
              "Tonga                                   5\n",
              "East Timor                              4\n",
              "Faroe Islands                           4\n",
              "Wallis and Futuna                       4\n",
              "Sao Tome and Principe                   4\n",
              "Central African Republic                3\n",
              "Nauru                                   3\n",
              "Saint Pierre and Miquelon               3\n",
              "Christmas Island                        2\n",
              "Norfolk Island                          2\n",
              "Cocos (Keeling) Islands                 1\n",
              "Lesotho                                 1\n",
              "Swaziland                               1\n",
              "Falkland Islands                        1\n",
              "Monaco                                  1\n",
              "Tuvalu                                  1\n",
              "American Samoa                          1\n",
              "Name: destination_country, Length: 225, dtype: int64"
            ]
          },
          "metadata": {
            "tags": []
          },
          "execution_count": 75
        }
      ]
    },
    {
      "cell_type": "code",
      "metadata": {
        "id": "6Z6yzaUY3DTd",
        "colab_type": "code",
        "outputId": "c566dc3a-bf4d-4561-bca2-8888ce187098",
        "colab": {
          "base_uri": "https://localhost:8080/",
          "height": 1000
        }
      },
      "source": [
        "df['destination_country'].value_counts().sort_values(ascending=True)"
      ],
      "execution_count": 0,
      "outputs": [
        {
          "output_type": "execute_result",
          "data": {
            "text/plain": [
              "American Samoa                          1\n",
              "Tuvalu                                  1\n",
              "Monaco                                  1\n",
              "Falkland Islands                        1\n",
              "Swaziland                               1\n",
              "Lesotho                                 1\n",
              "Cocos (Keeling) Islands                 1\n",
              "Norfolk Island                          2\n",
              "Christmas Island                        2\n",
              "Saint Pierre and Miquelon               3\n",
              "Nauru                                   3\n",
              "Central African Republic                3\n",
              "Sao Tome and Principe                   4\n",
              "Wallis and Futuna                       4\n",
              "Faroe Islands                           4\n",
              "East Timor                              4\n",
              "Tonga                                   5\n",
              "Korea                                   5\n",
              "Bhutan                                  5\n",
              "Saint Vincent and the Grenadines        5\n",
              "Samoa                                   6\n",
              "Gibraltar                               6\n",
              "Anguilla                                6\n",
              "Guinea-Bissau                           7\n",
              "Western Sahara                          7\n",
              "Marshall Islands                        7\n",
              "Kiribati                                7\n",
              "French Guiana                           7\n",
              "Eritrea                                 8\n",
              "Palau                                   9\n",
              "                                    ...  \n",
              "Singapore                             412\n",
              "Taiwan                                412\n",
              "Iran                                  427\n",
              "Sweden                                474\n",
              "Switzerland                           520\n",
              "Portugal                              541\n",
              "Saudi Arabia                          560\n",
              "Netherlands                           566\n",
              "Malaysia                              567\n",
              "South Korea                           589\n",
              "Thailand                              604\n",
              "Norway                                648\n",
              "United Arab Emirates                  741\n",
              "Greece                                814\n",
              "Indonesia                             825\n",
              "Turkey                                983\n",
              "Mexico                               1053\n",
              "Australia                            1092\n",
              "Japan                                1299\n",
              "Brazil                               1386\n",
              "India                                1503\n",
              "Italy                                1779\n",
              "Russia                               1817\n",
              "France                               1842\n",
              "Canada                               1844\n",
              "Germany                              2337\n",
              "Spain                                2533\n",
              "United Kingdom                       2635\n",
              "China                                8146\n",
              "United States                       13173\n",
              "Name: destination_country, Length: 225, dtype: int64"
            ]
          },
          "metadata": {
            "tags": []
          },
          "execution_count": 76
        }
      ]
    },
    {
      "cell_type": "markdown",
      "metadata": {
        "id": "IALdeyhuh3ip",
        "colab_type": "text"
      },
      "source": [
        "## Save table in CSV"
      ]
    },
    {
      "cell_type": "code",
      "metadata": {
        "id": "55tYm5d-iBCA",
        "colab_type": "code",
        "colab": {
          "base_uri": "https://localhost:8080/",
          "height": 413
        },
        "outputId": "9e7fba35-079f-4eff-9ab5-4db9c43f30b0"
      },
      "source": [
        "import pandas as pd\n",
        "import sqlite3\n",
        "\n",
        "conn, cursor = create_connect_database(\"flights.db\")\n",
        "\n",
        "query = \"\"\"SELECT * FROM airports;\"\"\"\n",
        "\n",
        "df = pd.read_sql_query(query, conn)\n",
        "df.head(5)"
      ],
      "execution_count": 21,
      "outputs": [
        {
          "output_type": "execute_result",
          "data": {
            "text/html": [
              "<div>\n",
              "<style scoped>\n",
              "    .dataframe tbody tr th:only-of-type {\n",
              "        vertical-align: middle;\n",
              "    }\n",
              "\n",
              "    .dataframe tbody tr th {\n",
              "        vertical-align: top;\n",
              "    }\n",
              "\n",
              "    .dataframe thead th {\n",
              "        text-align: right;\n",
              "    }\n",
              "</style>\n",
              "<table border=\"1\" class=\"dataframe\">\n",
              "  <thead>\n",
              "    <tr style=\"text-align: right;\">\n",
              "      <th></th>\n",
              "      <th>index</th>\n",
              "      <th>id</th>\n",
              "      <th>name</th>\n",
              "      <th>city</th>\n",
              "      <th>country</th>\n",
              "      <th>code</th>\n",
              "      <th>icao</th>\n",
              "      <th>latitude</th>\n",
              "      <th>longitude</th>\n",
              "      <th>altitude</th>\n",
              "      <th>offset</th>\n",
              "      <th>dst</th>\n",
              "      <th>timezone</th>\n",
              "    </tr>\n",
              "  </thead>\n",
              "  <tbody>\n",
              "    <tr>\n",
              "      <th>0</th>\n",
              "      <td>0</td>\n",
              "      <td>1</td>\n",
              "      <td>Goroka</td>\n",
              "      <td>Goroka</td>\n",
              "      <td>Papua New Guinea</td>\n",
              "      <td>GKA</td>\n",
              "      <td>AYGA</td>\n",
              "      <td>-6.081689</td>\n",
              "      <td>145.391881</td>\n",
              "      <td>5282</td>\n",
              "      <td>10</td>\n",
              "      <td>U</td>\n",
              "      <td>Pacific/Port_Moresby</td>\n",
              "    </tr>\n",
              "    <tr>\n",
              "      <th>1</th>\n",
              "      <td>1</td>\n",
              "      <td>2</td>\n",
              "      <td>Madang</td>\n",
              "      <td>Madang</td>\n",
              "      <td>Papua New Guinea</td>\n",
              "      <td>MAG</td>\n",
              "      <td>AYMD</td>\n",
              "      <td>-5.207083</td>\n",
              "      <td>145.7887</td>\n",
              "      <td>20</td>\n",
              "      <td>10</td>\n",
              "      <td>U</td>\n",
              "      <td>Pacific/Port_Moresby</td>\n",
              "    </tr>\n",
              "    <tr>\n",
              "      <th>2</th>\n",
              "      <td>2</td>\n",
              "      <td>3</td>\n",
              "      <td>Mount Hagen</td>\n",
              "      <td>Mount Hagen</td>\n",
              "      <td>Papua New Guinea</td>\n",
              "      <td>HGU</td>\n",
              "      <td>AYMH</td>\n",
              "      <td>-5.826789</td>\n",
              "      <td>144.295861</td>\n",
              "      <td>5388</td>\n",
              "      <td>10</td>\n",
              "      <td>U</td>\n",
              "      <td>Pacific/Port_Moresby</td>\n",
              "    </tr>\n",
              "    <tr>\n",
              "      <th>3</th>\n",
              "      <td>3</td>\n",
              "      <td>4</td>\n",
              "      <td>Nadzab</td>\n",
              "      <td>Nadzab</td>\n",
              "      <td>Papua New Guinea</td>\n",
              "      <td>LAE</td>\n",
              "      <td>AYNZ</td>\n",
              "      <td>-6.569828</td>\n",
              "      <td>146.726242</td>\n",
              "      <td>239</td>\n",
              "      <td>10</td>\n",
              "      <td>U</td>\n",
              "      <td>Pacific/Port_Moresby</td>\n",
              "    </tr>\n",
              "    <tr>\n",
              "      <th>4</th>\n",
              "      <td>4</td>\n",
              "      <td>5</td>\n",
              "      <td>Port Moresby Jacksons Intl</td>\n",
              "      <td>Port Moresby</td>\n",
              "      <td>Papua New Guinea</td>\n",
              "      <td>POM</td>\n",
              "      <td>AYPY</td>\n",
              "      <td>-9.443383</td>\n",
              "      <td>147.22005</td>\n",
              "      <td>146</td>\n",
              "      <td>10</td>\n",
              "      <td>U</td>\n",
              "      <td>Pacific/Port_Moresby</td>\n",
              "    </tr>\n",
              "  </tbody>\n",
              "</table>\n",
              "</div>"
            ],
            "text/plain": [
              "   index id                        name  ... offset dst              timezone\n",
              "0      0  1                      Goroka  ...     10   U  Pacific/Port_Moresby\n",
              "1      1  2                      Madang  ...     10   U  Pacific/Port_Moresby\n",
              "2      2  3                 Mount Hagen  ...     10   U  Pacific/Port_Moresby\n",
              "3      3  4                      Nadzab  ...     10   U  Pacific/Port_Moresby\n",
              "4      4  5  Port Moresby Jacksons Intl  ...     10   U  Pacific/Port_Moresby\n",
              "\n",
              "[5 rows x 13 columns]"
            ]
          },
          "metadata": {
            "tags": []
          },
          "execution_count": 21
        }
      ]
    },
    {
      "cell_type": "code",
      "metadata": {
        "id": "hop_srQhiEvJ",
        "colab_type": "code",
        "colab": {}
      },
      "source": [
        "df.to_csv(\"my.csv\")"
      ],
      "execution_count": 0,
      "outputs": []
    },
    {
      "cell_type": "code",
      "metadata": {
        "id": "hpdJw1RYiLcC",
        "colab_type": "code",
        "colab": {}
      },
      "source": [
        ""
      ],
      "execution_count": 0,
      "outputs": []
    }
  ]
}