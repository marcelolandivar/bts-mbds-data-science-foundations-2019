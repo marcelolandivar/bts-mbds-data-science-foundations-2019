{
  "nbformat": 4,
  "nbformat_minor": 0,
  "metadata": {
    "colab": {
      "name": "DSF_WEEK_2_EXERCISES.ipynb",
      "provenance": [],
      "collapsed_sections": []
    },
    "kernelspec": {
      "name": "python3",
      "display_name": "Python 3"
    }
  },
  "cells": [
    {
      "cell_type": "markdown",
      "metadata": {
        "id": "_a2hajcA99-K",
        "colab_type": "text"
      },
      "source": [
        "![BTS](https://github.com/vfp1/bts-mbds-data-science-foundations-2019/blob/master/sessions/img/Logo-BTS.jpg?raw=1)\n",
        "\n",
        "# WEEK 2: Assignements\n",
        "\n",
        "### Victor F. Pajuelo Madrigal <victor.pajuelo@bts.tech> - Data Science Foundations (2019-10-10)\n",
        "\n",
        "Open this notebook in Google Colaboratory: [![Open in Colab](https://colab.research.google.com/assets/colab-badge.svg)](https://colab.research.google.com/github/vfp1/bts-mbds-data-science-foundations-2019/blob/master/sessions/DSF_WEEK_2_EXERCISES.ipynb)"
      ]
    },
    {
      "cell_type": "markdown",
      "metadata": {
        "id": "HCvH2cLM_1Cq",
        "colab_type": "text"
      },
      "source": [
        "# Exercise 1: getting around GIT [OPTIONAL]\n",
        "\n",
        "You will be provided with further slides on next Tuesday class (15/10/2019). Meanwhile you can try to do the following:\n",
        "\n",
        "* Create a GitHub account\n",
        "* Fork the [repository](https://github.com/vfp1/bts-mbds-data-science-foundations-2019) from the course\n",
        "* Clone the repository in your own computer using `git clone`\n",
        "* Create a folder within `/sessions` where you will be creating your own notebooks. Since we are using notebooks, it is better that you leave the nootebooks from the course untouched, and that you rather create a copy of them in the  `/sessions` folder where you can edit them. Trust me, it will save you a lot of **merge conflict** problems.\n",
        "* Sync your fork to the remote origin (the original repo of the course) so you can update it with the new notebooks that I will be adding. Follow [this tutorial](https://help.github.com/en/articles/syncing-a-fork).\n",
        "* Return this exercise by commiting the whole notebook in your own git and pass the url to me"
      ]
    },
    {
      "cell_type": "markdown",
      "metadata": {
        "id": "XrA3YsGkQVY4",
        "colab_type": "text"
      },
      "source": [
        "# Exercise 2: more bikes [OBLIGATORY]\n",
        "\n",
        "Given [this](https://github.com/vfp1/bts-mbds-data-science-foundations-2019/raw/master/sessions/data/Fremont_Bridge_Hourly_Bicycle_Counts_by_Month_October_2012_to_present.csv) dataset:\n",
        "\n",
        "* Open the dataset using Pandas\n",
        "* Display the DataFrame\n",
        "* Describe the DataFrame, can we already see some trends in regards to volume of bikes per region?\n",
        "* Reply to the following questions (either by plotting the graph and summarizing the values):\n",
        "\n",
        "    * In each one of the years from the dataset. Which is the month with the highest number of bikes?\n",
        "        * Plot each year with the number of bikes to also see it visually.\n",
        "    * In Total, when are the hours with the least amount of riders? Take into consideration all days of the week.\n",
        "        * Plot the hours with the average amount of riders.\n",
        "    * In the current year, which is the best route to bike with less people? Use the average of bikers during the whole year.\n",
        "        * Plot the bikers per hour using yearly average\n",
        "        * When is best to ride with less people between 10 to 15 in weekdays using the average of 2019?\n",
        "        * Plot the amount of bikers during those hours on weekdays"
      ]
    },
    {
      "cell_type": "markdown",
      "metadata": {
        "id": "kRIP0xZeYrvn",
        "colab_type": "text"
      },
      "source": [
        "# Exercise 3: SQLite and Pandas [OBLIGATORY]\n",
        "\n",
        "Download [this Sqlite database](https://github.com/vfp1/bts-mbds-data-science-foundations-2019/raw/master/sessions/data/flights.db)\n",
        "\n",
        "You can either use SQLite database entirely or load the SQL query in Pandas to reply to the following questions:\n",
        "\n",
        "*   Which is the highest city that as an airport?\n",
        "*   And which is the lowest city that as an airport?\n",
        "*   Retrieve the timezones and generate a dataframe with the timezones and the amount of airports in them. Plot it as a histogram as well.\n",
        "*   Which country has more airlines? And which one has less?\n",
        "*   Which city has the most outgoing destinations? And the least?\n",
        "*   And which city has the most incoming destinations? And the least?\n",
        "\n"
      ]
    },
    {
      "cell_type": "code",
      "metadata": {
        "id": "pScF0XDi0ps3",
        "colab_type": "code",
        "colab": {}
      },
      "source": [
        ""
      ],
      "execution_count": 0,
      "outputs": []
    }
  ]
}